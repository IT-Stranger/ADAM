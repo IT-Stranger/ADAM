{
 "cells": [
  {
   "cell_type": "code",
   "execution_count": 1,
   "metadata": {},
   "outputs": [],
   "source": [
    "# !pip install catboost"
   ]
  },
  {
   "cell_type": "code",
   "execution_count": 1,
   "metadata": {},
   "outputs": [],
   "source": [
    "import numpy as np\n",
    "import pandas as pd\n",
    "\n",
    "import random\n",
    "\n",
    "from copy import deepcopy\n",
    "\n",
    "import matplotlib\n",
    "from matplotlib import pyplot as plt\n",
    "from matplotlib_inline.backend_inline import set_matplotlib_formats\n",
    "set_matplotlib_formats('svg')\n",
    "%matplotlib inline\n",
    "\n",
    "\n",
    "random.seed(22)\n",
    "np.random.seed(22)\n",
    "\n",
    "from sklearn.metrics import r2_score\n",
    "from sklearn.model_selection import train_test_split\n",
    "from sklearn.ensemble import RandomForestRegressor\n",
    "from sklearn.datasets import make_regression\n",
    "from sklearn.linear_model import LinearRegression\n",
    "from sklearn.metrics import mean_absolute_error as MAE\n",
    "\n",
    "import xgboost\n",
    "from xgboost import XGBRegressor\n",
    "\n",
    "# from catboost import CatBoostRegressor\n",
    "# from catboost import Pool, cv\n",
    "# from catboost import CatBoostClassifier\n",
    "\n",
    "import time\n",
    "from datetime import datetime\n",
    "def to_time(s):\n",
    "    return datetime.strptime(s, '%Y-%m-%d')\n",
    "\n",
    "pd.set_option('display.max_columns', None)"
   ]
  },
  {
   "cell_type": "code",
   "execution_count": 399,
   "metadata": {},
   "outputs": [],
   "source": [
    "from tqdm import tqdm"
   ]
  },
  {
   "cell_type": "code",
   "execution_count": 2,
   "metadata": {},
   "outputs": [],
   "source": [
    "def perf_measure(y_actual, y_hat):\n",
    "    TP = 0\n",
    "    FP = 0\n",
    "    TN = 0\n",
    "    FN = 0\n",
    "    for i in range(len(y_hat)):\n",
    "        if y_actual[i]==y_hat[i]==1:\n",
    "            TP += 1\n",
    "        if y_hat[i]==1 and y_actual[i]!=y_hat[i]:\n",
    "            FP += 1\n",
    "        if y_actual[i]==y_hat[i]==0:\n",
    "            TN += 1\n",
    "        if y_hat[i]==0 and y_actual[i]!=y_hat[i]:\n",
    "            FN += 1\n",
    "    return(TP, FP, TN, FN)"
   ]
  },
  {
   "cell_type": "code",
   "execution_count": 3,
   "metadata": {},
   "outputs": [],
   "source": [
    "train = pd.read_csv(\"train.csv\", sep=';')"
   ]
  },
  {
   "cell_type": "code",
   "execution_count": 4,
   "metadata": {},
   "outputs": [],
   "source": [
    "# test = pd.read_csv(\"test.csv\", sep=';')"
   ]
  },
  {
   "cell_type": "code",
   "execution_count": 5,
   "metadata": {},
   "outputs": [
    {
     "data": {
      "text/html": [
       "<div>\n",
       "<style scoped>\n",
       "    .dataframe tbody tr th:only-of-type {\n",
       "        vertical-align: middle;\n",
       "    }\n",
       "\n",
       "    .dataframe tbody tr th {\n",
       "        vertical-align: top;\n",
       "    }\n",
       "\n",
       "    .dataframe thead th {\n",
       "        text-align: right;\n",
       "    }\n",
       "</style>\n",
       "<table border=\"1\" class=\"dataframe\">\n",
       "  <thead>\n",
       "    <tr style=\"text-align: right;\">\n",
       "      <th></th>\n",
       "      <th>label</th>\n",
       "      <th>period</th>\n",
       "      <th>subject_type</th>\n",
       "      <th>subject_name</th>\n",
       "      <th>city_name</th>\n",
       "      <th>hex</th>\n",
       "      <th>hex_lat</th>\n",
       "      <th>hex_lon</th>\n",
       "      <th>f1</th>\n",
       "      <th>f2</th>\n",
       "      <th>f3</th>\n",
       "      <th>f4</th>\n",
       "      <th>f5</th>\n",
       "      <th>f6</th>\n",
       "      <th>f7</th>\n",
       "      <th>f8</th>\n",
       "      <th>f9</th>\n",
       "      <th>f10</th>\n",
       "      <th>f11</th>\n",
       "      <th>f12</th>\n",
       "      <th>f13</th>\n",
       "      <th>f14</th>\n",
       "      <th>f15</th>\n",
       "      <th>f16</th>\n",
       "      <th>f17</th>\n",
       "      <th>f18</th>\n",
       "      <th>f19</th>\n",
       "      <th>f20</th>\n",
       "      <th>f21</th>\n",
       "      <th>f22</th>\n",
       "      <th>f23</th>\n",
       "      <th>f24</th>\n",
       "      <th>f25</th>\n",
       "      <th>f26</th>\n",
       "      <th>f27</th>\n",
       "      <th>f28</th>\n",
       "      <th>f29</th>\n",
       "      <th>f30</th>\n",
       "    </tr>\n",
       "  </thead>\n",
       "  <tbody>\n",
       "    <tr>\n",
       "      <th>3014</th>\n",
       "      <td>1</td>\n",
       "      <td>2020-07-01</td>\n",
       "      <td>Область</td>\n",
       "      <td>Мурманская</td>\n",
       "      <td>Луостари</td>\n",
       "      <td>860134147ffffff</td>\n",
       "      <td>69.440257</td>\n",
       "      <td>31.060671</td>\n",
       "      <td>0.00050</td>\n",
       "      <td>0.00044</td>\n",
       "      <td>0.00060</td>\n",
       "      <td>0.0</td>\n",
       "      <td>0.0</td>\n",
       "      <td>0.02672</td>\n",
       "      <td>NaN</td>\n",
       "      <td>0.00033</td>\n",
       "      <td>0.00033</td>\n",
       "      <td>0.12823</td>\n",
       "      <td>0.31866</td>\n",
       "      <td>0.15054</td>\n",
       "      <td>0.0</td>\n",
       "      <td>0.0</td>\n",
       "      <td>0.00136</td>\n",
       "      <td>NaN</td>\n",
       "      <td>NaN</td>\n",
       "      <td>0.05288</td>\n",
       "      <td>0.67980</td>\n",
       "      <td>0.31773</td>\n",
       "      <td>0.43103</td>\n",
       "      <td>0.0</td>\n",
       "      <td>0.0</td>\n",
       "      <td>0.22727</td>\n",
       "      <td>0.67482</td>\n",
       "      <td>0.0035</td>\n",
       "      <td>0.00699</td>\n",
       "      <td>0.51399</td>\n",
       "      <td>0.0</td>\n",
       "      <td>0.0</td>\n",
       "    </tr>\n",
       "    <tr>\n",
       "      <th>3059</th>\n",
       "      <td>1</td>\n",
       "      <td>2020-07-01</td>\n",
       "      <td>Область</td>\n",
       "      <td>Мурманская</td>\n",
       "      <td>Луостари</td>\n",
       "      <td>860134147ffffff</td>\n",
       "      <td>69.440257</td>\n",
       "      <td>31.060671</td>\n",
       "      <td>NaN</td>\n",
       "      <td>NaN</td>\n",
       "      <td>NaN</td>\n",
       "      <td>0.0</td>\n",
       "      <td>0.0</td>\n",
       "      <td>0.01588</td>\n",
       "      <td>NaN</td>\n",
       "      <td>0.00026</td>\n",
       "      <td>0.00026</td>\n",
       "      <td>0.12478</td>\n",
       "      <td>0.31457</td>\n",
       "      <td>0.14685</td>\n",
       "      <td>NaN</td>\n",
       "      <td>0.0</td>\n",
       "      <td>0.00050</td>\n",
       "      <td>NaN</td>\n",
       "      <td>NaN</td>\n",
       "      <td>0.05288</td>\n",
       "      <td>0.68227</td>\n",
       "      <td>0.31773</td>\n",
       "      <td>0.43350</td>\n",
       "      <td>0.0</td>\n",
       "      <td>0.0</td>\n",
       "      <td>NaN</td>\n",
       "      <td>NaN</td>\n",
       "      <td>NaN</td>\n",
       "      <td>NaN</td>\n",
       "      <td>NaN</td>\n",
       "      <td>0.0</td>\n",
       "      <td>0.0</td>\n",
       "    </tr>\n",
       "    <tr>\n",
       "      <th>80258</th>\n",
       "      <td>0</td>\n",
       "      <td>2020-07-01</td>\n",
       "      <td>Область</td>\n",
       "      <td>Мурманская</td>\n",
       "      <td>Луостари</td>\n",
       "      <td>860134147ffffff</td>\n",
       "      <td>69.440257</td>\n",
       "      <td>31.060671</td>\n",
       "      <td>0.00000</td>\n",
       "      <td>0.00018</td>\n",
       "      <td>0.00039</td>\n",
       "      <td>0.0</td>\n",
       "      <td>0.0</td>\n",
       "      <td>0.41590</td>\n",
       "      <td>NaN</td>\n",
       "      <td>0.00000</td>\n",
       "      <td>0.00000</td>\n",
       "      <td>0.12478</td>\n",
       "      <td>0.31457</td>\n",
       "      <td>0.14645</td>\n",
       "      <td>0.0</td>\n",
       "      <td>0.0</td>\n",
       "      <td>0.00182</td>\n",
       "      <td>0.01205</td>\n",
       "      <td>NaN</td>\n",
       "      <td>0.05288</td>\n",
       "      <td>0.67980</td>\n",
       "      <td>0.31773</td>\n",
       "      <td>0.43103</td>\n",
       "      <td>0.0</td>\n",
       "      <td>0.0</td>\n",
       "      <td>0.22727</td>\n",
       "      <td>0.67482</td>\n",
       "      <td>0.0035</td>\n",
       "      <td>0.00699</td>\n",
       "      <td>0.51748</td>\n",
       "      <td>0.0</td>\n",
       "      <td>0.0</td>\n",
       "    </tr>\n",
       "    <tr>\n",
       "      <th>83524</th>\n",
       "      <td>0</td>\n",
       "      <td>2020-07-01</td>\n",
       "      <td>Область</td>\n",
       "      <td>Мурманская</td>\n",
       "      <td>Луостари</td>\n",
       "      <td>860134147ffffff</td>\n",
       "      <td>69.440257</td>\n",
       "      <td>31.060671</td>\n",
       "      <td>0.00099</td>\n",
       "      <td>0.00178</td>\n",
       "      <td>0.00219</td>\n",
       "      <td>0.0</td>\n",
       "      <td>0.0</td>\n",
       "      <td>0.03840</td>\n",
       "      <td>NaN</td>\n",
       "      <td>0.00000</td>\n",
       "      <td>0.00000</td>\n",
       "      <td>0.12752</td>\n",
       "      <td>0.31457</td>\n",
       "      <td>0.14912</td>\n",
       "      <td>NaN</td>\n",
       "      <td>0.0</td>\n",
       "      <td>0.00085</td>\n",
       "      <td>NaN</td>\n",
       "      <td>NaN</td>\n",
       "      <td>0.05288</td>\n",
       "      <td>0.68227</td>\n",
       "      <td>0.31773</td>\n",
       "      <td>0.43350</td>\n",
       "      <td>0.0</td>\n",
       "      <td>0.0</td>\n",
       "      <td>NaN</td>\n",
       "      <td>NaN</td>\n",
       "      <td>NaN</td>\n",
       "      <td>NaN</td>\n",
       "      <td>NaN</td>\n",
       "      <td>0.0</td>\n",
       "      <td>0.0</td>\n",
       "    </tr>\n",
       "    <tr>\n",
       "      <th>84221</th>\n",
       "      <td>0</td>\n",
       "      <td>2020-07-01</td>\n",
       "      <td>Область</td>\n",
       "      <td>Мурманская</td>\n",
       "      <td>Луостари</td>\n",
       "      <td>860134147ffffff</td>\n",
       "      <td>69.440257</td>\n",
       "      <td>31.060671</td>\n",
       "      <td>0.00009</td>\n",
       "      <td>0.00022</td>\n",
       "      <td>0.00038</td>\n",
       "      <td>0.0</td>\n",
       "      <td>0.0</td>\n",
       "      <td>0.00135</td>\n",
       "      <td>0.00693</td>\n",
       "      <td>0.00000</td>\n",
       "      <td>0.00000</td>\n",
       "      <td>0.12641</td>\n",
       "      <td>0.31956</td>\n",
       "      <td>0.14805</td>\n",
       "      <td>0.0</td>\n",
       "      <td>0.0</td>\n",
       "      <td>0.00036</td>\n",
       "      <td>0.02410</td>\n",
       "      <td>0.01748</td>\n",
       "      <td>0.05048</td>\n",
       "      <td>0.67980</td>\n",
       "      <td>0.31773</td>\n",
       "      <td>0.43350</td>\n",
       "      <td>0.0</td>\n",
       "      <td>0.0</td>\n",
       "      <td>0.22727</td>\n",
       "      <td>0.67133</td>\n",
       "      <td>0.0035</td>\n",
       "      <td>0.00699</td>\n",
       "      <td>0.51399</td>\n",
       "      <td>0.0</td>\n",
       "      <td>0.0</td>\n",
       "    </tr>\n",
       "  </tbody>\n",
       "</table>\n",
       "</div>"
      ],
      "text/plain": [
       "       label      period subject_type subject_name city_name              hex  \\\n",
       "3014       1  2020-07-01      Область   Мурманская  Луостари  860134147ffffff   \n",
       "3059       1  2020-07-01      Область   Мурманская  Луостари  860134147ffffff   \n",
       "80258      0  2020-07-01      Область   Мурманская  Луостари  860134147ffffff   \n",
       "83524      0  2020-07-01      Область   Мурманская  Луостари  860134147ffffff   \n",
       "84221      0  2020-07-01      Область   Мурманская  Луостари  860134147ffffff   \n",
       "\n",
       "         hex_lat    hex_lon       f1       f2       f3   f4   f5       f6  \\\n",
       "3014   69.440257  31.060671  0.00050  0.00044  0.00060  0.0  0.0  0.02672   \n",
       "3059   69.440257  31.060671      NaN      NaN      NaN  0.0  0.0  0.01588   \n",
       "80258  69.440257  31.060671  0.00000  0.00018  0.00039  0.0  0.0  0.41590   \n",
       "83524  69.440257  31.060671  0.00099  0.00178  0.00219  0.0  0.0  0.03840   \n",
       "84221  69.440257  31.060671  0.00009  0.00022  0.00038  0.0  0.0  0.00135   \n",
       "\n",
       "            f7       f8       f9      f10      f11      f12  f13  f14  \\\n",
       "3014       NaN  0.00033  0.00033  0.12823  0.31866  0.15054  0.0  0.0   \n",
       "3059       NaN  0.00026  0.00026  0.12478  0.31457  0.14685  NaN  0.0   \n",
       "80258      NaN  0.00000  0.00000  0.12478  0.31457  0.14645  0.0  0.0   \n",
       "83524      NaN  0.00000  0.00000  0.12752  0.31457  0.14912  NaN  0.0   \n",
       "84221  0.00693  0.00000  0.00000  0.12641  0.31956  0.14805  0.0  0.0   \n",
       "\n",
       "           f15      f16      f17      f18      f19      f20      f21  f22  \\\n",
       "3014   0.00136      NaN      NaN  0.05288  0.67980  0.31773  0.43103  0.0   \n",
       "3059   0.00050      NaN      NaN  0.05288  0.68227  0.31773  0.43350  0.0   \n",
       "80258  0.00182  0.01205      NaN  0.05288  0.67980  0.31773  0.43103  0.0   \n",
       "83524  0.00085      NaN      NaN  0.05288  0.68227  0.31773  0.43350  0.0   \n",
       "84221  0.00036  0.02410  0.01748  0.05048  0.67980  0.31773  0.43350  0.0   \n",
       "\n",
       "       f23      f24      f25     f26      f27      f28  f29  f30  \n",
       "3014   0.0  0.22727  0.67482  0.0035  0.00699  0.51399  0.0  0.0  \n",
       "3059   0.0      NaN      NaN     NaN      NaN      NaN  0.0  0.0  \n",
       "80258  0.0  0.22727  0.67482  0.0035  0.00699  0.51748  0.0  0.0  \n",
       "83524  0.0      NaN      NaN     NaN      NaN      NaN  0.0  0.0  \n",
       "84221  0.0  0.22727  0.67133  0.0035  0.00699  0.51399  0.0  0.0  "
      ]
     },
     "execution_count": 5,
     "metadata": {},
     "output_type": "execute_result"
    }
   ],
   "source": [
    "train.sort_values(['hex','period'])[50:].head()"
   ]
  },
  {
   "cell_type": "code",
   "execution_count": 6,
   "metadata": {},
   "outputs": [],
   "source": [
    "# test.sort_values(['hex','period'])[-50:].head(30)"
   ]
  },
  {
   "cell_type": "code",
   "execution_count": 7,
   "metadata": {},
   "outputs": [
    {
     "data": {
      "text/html": [
       "<div>\n",
       "<style scoped>\n",
       "    .dataframe tbody tr th:only-of-type {\n",
       "        vertical-align: middle;\n",
       "    }\n",
       "\n",
       "    .dataframe tbody tr th {\n",
       "        vertical-align: top;\n",
       "    }\n",
       "\n",
       "    .dataframe thead th {\n",
       "        text-align: right;\n",
       "    }\n",
       "</style>\n",
       "<table border=\"1\" class=\"dataframe\">\n",
       "  <thead>\n",
       "    <tr style=\"text-align: right;\">\n",
       "      <th></th>\n",
       "      <th>label</th>\n",
       "      <th>hex_lat</th>\n",
       "      <th>hex_lon</th>\n",
       "      <th>f1</th>\n",
       "      <th>f2</th>\n",
       "      <th>f3</th>\n",
       "      <th>f4</th>\n",
       "      <th>f5</th>\n",
       "      <th>f6</th>\n",
       "      <th>f7</th>\n",
       "      <th>f8</th>\n",
       "      <th>f9</th>\n",
       "      <th>f10</th>\n",
       "      <th>f11</th>\n",
       "      <th>f12</th>\n",
       "      <th>f13</th>\n",
       "      <th>f14</th>\n",
       "      <th>f15</th>\n",
       "      <th>f16</th>\n",
       "      <th>f17</th>\n",
       "      <th>f18</th>\n",
       "      <th>f19</th>\n",
       "      <th>f20</th>\n",
       "      <th>f21</th>\n",
       "      <th>f22</th>\n",
       "      <th>f23</th>\n",
       "      <th>f24</th>\n",
       "      <th>f25</th>\n",
       "      <th>f26</th>\n",
       "      <th>f27</th>\n",
       "      <th>f28</th>\n",
       "      <th>f29</th>\n",
       "      <th>f30</th>\n",
       "    </tr>\n",
       "  </thead>\n",
       "  <tbody>\n",
       "    <tr>\n",
       "      <th>count</th>\n",
       "      <td>294258.000000</td>\n",
       "      <td>294258.000000</td>\n",
       "      <td>294258.000000</td>\n",
       "      <td>258144.000000</td>\n",
       "      <td>262930.000000</td>\n",
       "      <td>265786.000000</td>\n",
       "      <td>279564.000000</td>\n",
       "      <td>279564.000000</td>\n",
       "      <td>281984.000000</td>\n",
       "      <td>148829.000000</td>\n",
       "      <td>280209.000000</td>\n",
       "      <td>280209.000000</td>\n",
       "      <td>294258.000000</td>\n",
       "      <td>294258.000000</td>\n",
       "      <td>294258.000000</td>\n",
       "      <td>166853.000000</td>\n",
       "      <td>286618.000000</td>\n",
       "      <td>277160.000000</td>\n",
       "      <td>153723.000000</td>\n",
       "      <td>148829.000000</td>\n",
       "      <td>294124.000000</td>\n",
       "      <td>286899.000000</td>\n",
       "      <td>286899.000000</td>\n",
       "      <td>286899.000000</td>\n",
       "      <td>286899.000000</td>\n",
       "      <td>286899.000000</td>\n",
       "      <td>167474.000000</td>\n",
       "      <td>167474.000000</td>\n",
       "      <td>167474.000000</td>\n",
       "      <td>167474.000000</td>\n",
       "      <td>167474.000000</td>\n",
       "      <td>286899.000000</td>\n",
       "      <td>286899.000000</td>\n",
       "    </tr>\n",
       "    <tr>\n",
       "      <th>mean</th>\n",
       "      <td>0.024149</td>\n",
       "      <td>54.732133</td>\n",
       "      <td>55.154934</td>\n",
       "      <td>0.000573</td>\n",
       "      <td>0.000591</td>\n",
       "      <td>0.000745</td>\n",
       "      <td>0.000902</td>\n",
       "      <td>0.000247</td>\n",
       "      <td>0.157069</td>\n",
       "      <td>0.000169</td>\n",
       "      <td>0.000690</td>\n",
       "      <td>0.000955</td>\n",
       "      <td>0.126545</td>\n",
       "      <td>0.317709</td>\n",
       "      <td>0.148264</td>\n",
       "      <td>0.000081</td>\n",
       "      <td>0.000038</td>\n",
       "      <td>0.002789</td>\n",
       "      <td>0.022622</td>\n",
       "      <td>0.057591</td>\n",
       "      <td>0.020186</td>\n",
       "      <td>0.514443</td>\n",
       "      <td>0.024963</td>\n",
       "      <td>0.158855</td>\n",
       "      <td>0.029383</td>\n",
       "      <td>0.000303</td>\n",
       "      <td>0.118867</td>\n",
       "      <td>0.537152</td>\n",
       "      <td>0.003187</td>\n",
       "      <td>0.008172</td>\n",
       "      <td>0.186825</td>\n",
       "      <td>0.008941</td>\n",
       "      <td>0.000097</td>\n",
       "    </tr>\n",
       "    <tr>\n",
       "      <th>std</th>\n",
       "      <td>0.153512</td>\n",
       "      <td>5.101274</td>\n",
       "      <td>27.235237</td>\n",
       "      <td>0.001142</td>\n",
       "      <td>0.001101</td>\n",
       "      <td>0.001267</td>\n",
       "      <td>0.003160</td>\n",
       "      <td>0.001825</td>\n",
       "      <td>0.175730</td>\n",
       "      <td>0.002208</td>\n",
       "      <td>0.004673</td>\n",
       "      <td>0.005670</td>\n",
       "      <td>0.001089</td>\n",
       "      <td>0.003897</td>\n",
       "      <td>0.001139</td>\n",
       "      <td>0.002148</td>\n",
       "      <td>0.001337</td>\n",
       "      <td>0.008487</td>\n",
       "      <td>0.005559</td>\n",
       "      <td>0.060616</td>\n",
       "      <td>0.048114</td>\n",
       "      <td>0.175017</td>\n",
       "      <td>0.027384</td>\n",
       "      <td>0.116387</td>\n",
       "      <td>0.059065</td>\n",
       "      <td>0.001089</td>\n",
       "      <td>0.119459</td>\n",
       "      <td>0.273556</td>\n",
       "      <td>0.005874</td>\n",
       "      <td>0.011134</td>\n",
       "      <td>0.284884</td>\n",
       "      <td>0.011068</td>\n",
       "      <td>0.000929</td>\n",
       "    </tr>\n",
       "    <tr>\n",
       "      <th>min</th>\n",
       "      <td>0.000000</td>\n",
       "      <td>41.579243</td>\n",
       "      <td>19.920451</td>\n",
       "      <td>0.000000</td>\n",
       "      <td>0.000000</td>\n",
       "      <td>0.000000</td>\n",
       "      <td>0.000000</td>\n",
       "      <td>0.000000</td>\n",
       "      <td>0.000000</td>\n",
       "      <td>0.000000</td>\n",
       "      <td>0.000000</td>\n",
       "      <td>0.000000</td>\n",
       "      <td>0.103030</td>\n",
       "      <td>0.211720</td>\n",
       "      <td>0.125960</td>\n",
       "      <td>0.000000</td>\n",
       "      <td>0.000000</td>\n",
       "      <td>0.000010</td>\n",
       "      <td>0.000000</td>\n",
       "      <td>0.000000</td>\n",
       "      <td>0.000000</td>\n",
       "      <td>0.000000</td>\n",
       "      <td>0.000000</td>\n",
       "      <td>0.000000</td>\n",
       "      <td>0.000000</td>\n",
       "      <td>0.000000</td>\n",
       "      <td>0.000000</td>\n",
       "      <td>0.000000</td>\n",
       "      <td>0.000000</td>\n",
       "      <td>0.000000</td>\n",
       "      <td>0.000000</td>\n",
       "      <td>0.000000</td>\n",
       "      <td>0.000000</td>\n",
       "    </tr>\n",
       "    <tr>\n",
       "      <th>25%</th>\n",
       "      <td>0.000000</td>\n",
       "      <td>52.599710</td>\n",
       "      <td>37.762513</td>\n",
       "      <td>0.000110</td>\n",
       "      <td>0.000120</td>\n",
       "      <td>0.000160</td>\n",
       "      <td>0.000000</td>\n",
       "      <td>0.000000</td>\n",
       "      <td>0.019820</td>\n",
       "      <td>0.000000</td>\n",
       "      <td>0.000000</td>\n",
       "      <td>0.000000</td>\n",
       "      <td>0.126010</td>\n",
       "      <td>0.314570</td>\n",
       "      <td>0.147660</td>\n",
       "      <td>0.000000</td>\n",
       "      <td>0.000000</td>\n",
       "      <td>0.000780</td>\n",
       "      <td>0.024100</td>\n",
       "      <td>0.010310</td>\n",
       "      <td>0.003980</td>\n",
       "      <td>0.400470</td>\n",
       "      <td>0.011110</td>\n",
       "      <td>0.076490</td>\n",
       "      <td>0.000000</td>\n",
       "      <td>0.000000</td>\n",
       "      <td>0.010160</td>\n",
       "      <td>0.535010</td>\n",
       "      <td>0.000000</td>\n",
       "      <td>0.000000</td>\n",
       "      <td>0.009430</td>\n",
       "      <td>0.001730</td>\n",
       "      <td>0.000000</td>\n",
       "    </tr>\n",
       "    <tr>\n",
       "      <th>50%</th>\n",
       "      <td>0.000000</td>\n",
       "      <td>55.345232</td>\n",
       "      <td>44.032430</td>\n",
       "      <td>0.000330</td>\n",
       "      <td>0.000350</td>\n",
       "      <td>0.000450</td>\n",
       "      <td>0.000000</td>\n",
       "      <td>0.000000</td>\n",
       "      <td>0.056150</td>\n",
       "      <td>0.000000</td>\n",
       "      <td>0.000000</td>\n",
       "      <td>0.000000</td>\n",
       "      <td>0.126550</td>\n",
       "      <td>0.317470</td>\n",
       "      <td>0.148180</td>\n",
       "      <td>0.000000</td>\n",
       "      <td>0.000000</td>\n",
       "      <td>0.002000</td>\n",
       "      <td>0.024100</td>\n",
       "      <td>0.039480</td>\n",
       "      <td>0.009480</td>\n",
       "      <td>0.532470</td>\n",
       "      <td>0.019230</td>\n",
       "      <td>0.119050</td>\n",
       "      <td>0.000000</td>\n",
       "      <td>0.000000</td>\n",
       "      <td>0.084110</td>\n",
       "      <td>0.630740</td>\n",
       "      <td>0.000000</td>\n",
       "      <td>0.005330</td>\n",
       "      <td>0.036440</td>\n",
       "      <td>0.006410</td>\n",
       "      <td>0.000000</td>\n",
       "    </tr>\n",
       "    <tr>\n",
       "      <th>75%</th>\n",
       "      <td>0.000000</td>\n",
       "      <td>56.994743</td>\n",
       "      <td>60.827859</td>\n",
       "      <td>0.000740</td>\n",
       "      <td>0.000760</td>\n",
       "      <td>0.000970</td>\n",
       "      <td>0.000000</td>\n",
       "      <td>0.000000</td>\n",
       "      <td>0.414520</td>\n",
       "      <td>0.000000</td>\n",
       "      <td>0.000000</td>\n",
       "      <td>0.000000</td>\n",
       "      <td>0.127000</td>\n",
       "      <td>0.319610</td>\n",
       "      <td>0.148780</td>\n",
       "      <td>0.000000</td>\n",
       "      <td>0.000000</td>\n",
       "      <td>0.003800</td>\n",
       "      <td>0.024100</td>\n",
       "      <td>0.086260</td>\n",
       "      <td>0.020650</td>\n",
       "      <td>0.641320</td>\n",
       "      <td>0.028820</td>\n",
       "      <td>0.198240</td>\n",
       "      <td>0.039150</td>\n",
       "      <td>0.000000</td>\n",
       "      <td>0.206473</td>\n",
       "      <td>0.705880</td>\n",
       "      <td>0.004850</td>\n",
       "      <td>0.011490</td>\n",
       "      <td>0.276010</td>\n",
       "      <td>0.012170</td>\n",
       "      <td>0.000000</td>\n",
       "    </tr>\n",
       "    <tr>\n",
       "      <th>max</th>\n",
       "      <td>1.000000</td>\n",
       "      <td>69.725102</td>\n",
       "      <td>170.350467</td>\n",
       "      <td>0.314800</td>\n",
       "      <td>0.292930</td>\n",
       "      <td>0.279930</td>\n",
       "      <td>0.206900</td>\n",
       "      <td>0.078260</td>\n",
       "      <td>0.995900</td>\n",
       "      <td>0.541940</td>\n",
       "      <td>0.470790</td>\n",
       "      <td>0.510130</td>\n",
       "      <td>0.144930</td>\n",
       "      <td>0.494830</td>\n",
       "      <td>0.177740</td>\n",
       "      <td>0.285710</td>\n",
       "      <td>0.090910</td>\n",
       "      <td>0.998260</td>\n",
       "      <td>0.240960</td>\n",
       "      <td>0.629200</td>\n",
       "      <td>1.000000</td>\n",
       "      <td>1.000000</td>\n",
       "      <td>1.000000</td>\n",
       "      <td>1.000000</td>\n",
       "      <td>1.000000</td>\n",
       "      <td>0.100000</td>\n",
       "      <td>1.000000</td>\n",
       "      <td>1.000000</td>\n",
       "      <td>0.500000</td>\n",
       "      <td>0.500000</td>\n",
       "      <td>1.000000</td>\n",
       "      <td>1.000000</td>\n",
       "      <td>0.250000</td>\n",
       "    </tr>\n",
       "  </tbody>\n",
       "</table>\n",
       "</div>"
      ],
      "text/plain": [
       "               label        hex_lat        hex_lon             f1  \\\n",
       "count  294258.000000  294258.000000  294258.000000  258144.000000   \n",
       "mean        0.024149      54.732133      55.154934       0.000573   \n",
       "std         0.153512       5.101274      27.235237       0.001142   \n",
       "min         0.000000      41.579243      19.920451       0.000000   \n",
       "25%         0.000000      52.599710      37.762513       0.000110   \n",
       "50%         0.000000      55.345232      44.032430       0.000330   \n",
       "75%         0.000000      56.994743      60.827859       0.000740   \n",
       "max         1.000000      69.725102     170.350467       0.314800   \n",
       "\n",
       "                  f2             f3             f4             f5  \\\n",
       "count  262930.000000  265786.000000  279564.000000  279564.000000   \n",
       "mean        0.000591       0.000745       0.000902       0.000247   \n",
       "std         0.001101       0.001267       0.003160       0.001825   \n",
       "min         0.000000       0.000000       0.000000       0.000000   \n",
       "25%         0.000120       0.000160       0.000000       0.000000   \n",
       "50%         0.000350       0.000450       0.000000       0.000000   \n",
       "75%         0.000760       0.000970       0.000000       0.000000   \n",
       "max         0.292930       0.279930       0.206900       0.078260   \n",
       "\n",
       "                  f6             f7             f8             f9  \\\n",
       "count  281984.000000  148829.000000  280209.000000  280209.000000   \n",
       "mean        0.157069       0.000169       0.000690       0.000955   \n",
       "std         0.175730       0.002208       0.004673       0.005670   \n",
       "min         0.000000       0.000000       0.000000       0.000000   \n",
       "25%         0.019820       0.000000       0.000000       0.000000   \n",
       "50%         0.056150       0.000000       0.000000       0.000000   \n",
       "75%         0.414520       0.000000       0.000000       0.000000   \n",
       "max         0.995900       0.541940       0.470790       0.510130   \n",
       "\n",
       "                 f10            f11            f12            f13  \\\n",
       "count  294258.000000  294258.000000  294258.000000  166853.000000   \n",
       "mean        0.126545       0.317709       0.148264       0.000081   \n",
       "std         0.001089       0.003897       0.001139       0.002148   \n",
       "min         0.103030       0.211720       0.125960       0.000000   \n",
       "25%         0.126010       0.314570       0.147660       0.000000   \n",
       "50%         0.126550       0.317470       0.148180       0.000000   \n",
       "75%         0.127000       0.319610       0.148780       0.000000   \n",
       "max         0.144930       0.494830       0.177740       0.285710   \n",
       "\n",
       "                 f14            f15            f16            f17  \\\n",
       "count  286618.000000  277160.000000  153723.000000  148829.000000   \n",
       "mean        0.000038       0.002789       0.022622       0.057591   \n",
       "std         0.001337       0.008487       0.005559       0.060616   \n",
       "min         0.000000       0.000010       0.000000       0.000000   \n",
       "25%         0.000000       0.000780       0.024100       0.010310   \n",
       "50%         0.000000       0.002000       0.024100       0.039480   \n",
       "75%         0.000000       0.003800       0.024100       0.086260   \n",
       "max         0.090910       0.998260       0.240960       0.629200   \n",
       "\n",
       "                 f18            f19            f20            f21  \\\n",
       "count  294124.000000  286899.000000  286899.000000  286899.000000   \n",
       "mean        0.020186       0.514443       0.024963       0.158855   \n",
       "std         0.048114       0.175017       0.027384       0.116387   \n",
       "min         0.000000       0.000000       0.000000       0.000000   \n",
       "25%         0.003980       0.400470       0.011110       0.076490   \n",
       "50%         0.009480       0.532470       0.019230       0.119050   \n",
       "75%         0.020650       0.641320       0.028820       0.198240   \n",
       "max         1.000000       1.000000       1.000000       1.000000   \n",
       "\n",
       "                 f22            f23            f24            f25  \\\n",
       "count  286899.000000  286899.000000  167474.000000  167474.000000   \n",
       "mean        0.029383       0.000303       0.118867       0.537152   \n",
       "std         0.059065       0.001089       0.119459       0.273556   \n",
       "min         0.000000       0.000000       0.000000       0.000000   \n",
       "25%         0.000000       0.000000       0.010160       0.535010   \n",
       "50%         0.000000       0.000000       0.084110       0.630740   \n",
       "75%         0.039150       0.000000       0.206473       0.705880   \n",
       "max         1.000000       0.100000       1.000000       1.000000   \n",
       "\n",
       "                 f26            f27            f28            f29  \\\n",
       "count  167474.000000  167474.000000  167474.000000  286899.000000   \n",
       "mean        0.003187       0.008172       0.186825       0.008941   \n",
       "std         0.005874       0.011134       0.284884       0.011068   \n",
       "min         0.000000       0.000000       0.000000       0.000000   \n",
       "25%         0.000000       0.000000       0.009430       0.001730   \n",
       "50%         0.000000       0.005330       0.036440       0.006410   \n",
       "75%         0.004850       0.011490       0.276010       0.012170   \n",
       "max         0.500000       0.500000       1.000000       1.000000   \n",
       "\n",
       "                 f30  \n",
       "count  286899.000000  \n",
       "mean        0.000097  \n",
       "std         0.000929  \n",
       "min         0.000000  \n",
       "25%         0.000000  \n",
       "50%         0.000000  \n",
       "75%         0.000000  \n",
       "max         0.250000  "
      ]
     },
     "execution_count": 7,
     "metadata": {},
     "output_type": "execute_result"
    }
   ],
   "source": [
    "train.describe()"
   ]
  },
  {
   "cell_type": "code",
   "execution_count": 8,
   "metadata": {},
   "outputs": [],
   "source": [
    "# test.describe()"
   ]
  },
  {
   "cell_type": "code",
   "execution_count": 9,
   "metadata": {},
   "outputs": [
    {
     "name": "stdout",
     "output_type": "stream",
     "text": [
      "label 2\n",
      "period 8\n",
      "subject_type 6\n",
      "subject_name 82\n",
      "city_name 4634\n",
      "hex 7250\n",
      "hex_lat 7250\n",
      "hex_lon 7250\n",
      "f1 959\n",
      "f2 967\n",
      "f3 1128\n",
      "f4 36\n",
      "f5 11\n",
      "f6 6077\n",
      "f7 117\n",
      "f8 658\n",
      "f9 450\n",
      "f10 1008\n",
      "f11 3008\n",
      "f12 1313\n",
      "f13 6\n",
      "f14 4\n",
      "f15 1672\n",
      "f16 10\n",
      "f17 22474\n",
      "f18 5458\n",
      "f19 22642\n",
      "f20 4889\n",
      "f21 16398\n",
      "f22 7574\n",
      "f23 611\n",
      "f24 9948\n",
      "f25 10987\n",
      "f26 1398\n",
      "f27 2419\n",
      "f28 9542\n",
      "f29 3241\n",
      "f30 432\n"
     ]
    }
   ],
   "source": [
    "for col in train:\n",
    "    print(col, end = ' ')\n",
    "    print(len(train[col].unique()))"
   ]
  },
  {
   "cell_type": "markdown",
   "metadata": {},
   "source": [
    "# Some tests"
   ]
  },
  {
   "cell_type": "code",
   "execution_count": 254,
   "metadata": {},
   "outputs": [],
   "source": [
    "import scipy.stats as ss\n",
    "import seaborn as sns"
   ]
  },
  {
   "cell_type": "code",
   "execution_count": 255,
   "metadata": {},
   "outputs": [],
   "source": [
    "train_label_yes = train.loc[train['label'] == 1]\n",
    "train_label_no = train.loc[train['label'] == 0]"
   ]
  },
  {
   "cell_type": "code",
   "execution_count": 256,
   "metadata": {},
   "outputs": [],
   "source": [
    "def mann_test(df1, df2, num):\n",
    "    col = 'f' + str(num)\n",
    "    row1 = np.array(train_label_yes[col].dropna())\n",
    "    row2 = np.array(train_label_no[col].dropna())\n",
    "    return ss.mannwhitneyu(row1, row2)"
   ]
  },
  {
   "cell_type": "code",
   "execution_count": 257,
   "metadata": {},
   "outputs": [
    {
     "data": {
      "text/plain": [
       "MannwhitneyuResult(statistic=1097774275.5, pvalue=0.0)"
      ]
     },
     "execution_count": 257,
     "metadata": {},
     "output_type": "execute_result"
    }
   ],
   "source": [
    "mann_test(train_label_yes, train_label_no, 1)"
   ]
  },
  {
   "cell_type": "code",
   "execution_count": 258,
   "metadata": {},
   "outputs": [],
   "source": [
    "mann_res = []"
   ]
  },
  {
   "cell_type": "code",
   "execution_count": 259,
   "metadata": {},
   "outputs": [],
   "source": [
    "for i in range(1, 31):\n",
    "    res = mann_test(train_label_yes, train_label_no, i)[1]\n",
    "    if res < 0.01:\n",
    "        mann_res.append(i)"
   ]
  },
  {
   "cell_type": "code",
   "execution_count": 260,
   "metadata": {},
   "outputs": [],
   "source": [
    "def t_test(df1, df2, num):\n",
    "    col = 'f' + str(num)\n",
    "    row1 = np.array(train_label_yes[col].dropna())\n",
    "    row2 = np.array(train_label_no[col].dropna())\n",
    "    return ss.ttest_ind(row1, row2, equal_var=False)"
   ]
  },
  {
   "cell_type": "code",
   "execution_count": 261,
   "metadata": {},
   "outputs": [
    {
     "data": {
      "text/plain": [
       "Ttest_indResult(statistic=9.757610228680297, pvalue=2.401495233922568e-22)"
      ]
     },
     "execution_count": 261,
     "metadata": {},
     "output_type": "execute_result"
    }
   ],
   "source": [
    "t_test(train_label_yes, train_label_no, 1)"
   ]
  },
  {
   "cell_type": "code",
   "execution_count": 262,
   "metadata": {},
   "outputs": [],
   "source": [
    "t_res = []"
   ]
  },
  {
   "cell_type": "code",
   "execution_count": 263,
   "metadata": {},
   "outputs": [],
   "source": [
    "for i in range(1, 31):\n",
    "    res = t_test(train_label_yes, train_label_no, i)[1]\n",
    "    if res < 0.01:\n",
    "        t_res.append(i)"
   ]
  },
  {
   "cell_type": "code",
   "execution_count": 264,
   "metadata": {},
   "outputs": [
    {
     "name": "stdout",
     "output_type": "stream",
     "text": [
      "{1, 2, 3, 4, 8, 9, 10, 11, 12, 15, 16, 18, 19, 20, 21, 22, 23, 24, 25, 26, 27, 28, 29}\n"
     ]
    }
   ],
   "source": [
    "diffs = set(mann_res) & set(t_res)\n",
    "print(diffs)"
   ]
  },
  {
   "cell_type": "code",
   "execution_count": 265,
   "metadata": {},
   "outputs": [
    {
     "data": {
      "image/png": "[encoded data removed]",
      "text/plain": [
       "<Figure size 432x288 with 1 Axes>"
      ]
     },
     "metadata": {
      "needs_background": "light"
     },
     "output_type": "display_data"
    },
    {
     "data": {
      "image/png": "[encoded data removed]",
      "text/plain": [
       "<Figure size 432x288 with 1 Axes>"
      ]
     },
     "metadata": {
      "needs_background": "light"
     },
     "output_type": "display_data"
    },
    {
     "data": {
      "image/png": "[encoded data removed]",
      "text/plain": [
       "<Figure size 432x288 with 1 Axes>"
      ]
     },
     "metadata": {
      "needs_background": "light"
     },
     "output_type": "display_data"
    },
    {
     "data": {
      "image/png": "[encoded data removed]",
      "text/plain": [
       "<Figure size 432x288 with 1 Axes>"
      ]
     },
     "metadata": {
      "needs_background": "light"
     },
     "output_type": "display_data"
    },
    {
     "data": {
      "image/png": "[encoded data removed]",
      "text/plain": [
       "<Figure size 432x288 with 1 Axes>"
      ]
     },
     "metadata": {
      "needs_background": "light"
     },
     "output_type": "display_data"
    },
    {
     "data": {
      "image/png": "[encoded data removed]",
      "text/plain": [
       "<Figure size 432x288 with 1 Axes>"
      ]
     },
     "metadata": {
      "needs_background": "light"
     },
     "output_type": "display_data"
    },
    {
     "data": {
      "image/png": "[encoded data removed]",
      "text/plain": [
       "<Figure size 432x288 with 1 Axes>"
      ]
     },
     "metadata": {
      "needs_background": "light"
     },
     "output_type": "display_data"
    },
    {
     "data": {
      "image/png": "[encoded data removed]",
      "text/plain": [
       "<Figure size 432x288 with 1 Axes>"
      ]
     },
     "metadata": {
      "needs_background": "light"
     },
     "output_type": "display_data"
    },
    {
     "data": {
      "image/png": "[encoded data removed]",
      "text/plain": [
       "<Figure size 432x288 with 1 Axes>"
      ]
     },
     "metadata": {
      "needs_background": "light"
     },
     "output_type": "display_data"
    },
    {
     "data": {
      "image/png": "[encoded data removed]",
      "text/plain": [
       "<Figure size 432x288 with 1 Axes>"
      ]
     },
     "metadata": {
      "needs_background": "light"
     },
     "output_type": "display_data"
    },
    {
     "data": {
      "image/png": "[encoded data removed]",
      "text/plain": [
       "<Figure size 432x288 with 1 Axes>"
      ]
     },
     "metadata": {
      "needs_background": "light"
     },
     "output_type": "display_data"
    },
    {
     "data": {
      "image/png": "[encoded data removed]",
      "text/plain": [
       "<Figure size 432x288 with 1 Axes>"
      ]
     },
     "metadata": {
      "needs_background": "light"
     },
     "output_type": "display_data"
    },
    {
     "data": {
      "image/png": "[encoded data removed]",
      "text/plain": [
       "<Figure size 432x288 with 1 Axes>"
      ]
     },
     "metadata": {
      "needs_background": "light"
     },
     "output_type": "display_data"
    },
    {
     "data": {
      "image/png": "[encoded data removed]",
      "text/plain": [
       "<Figure size 432x288 with 1 Axes>"
      ]
     },
     "metadata": {
      "needs_background": "light"
     },
     "output_type": "display_data"
    },
    {
     "data": {
      "image/png": "[encoded data removed]",
      "text/plain": [
       "<Figure size 432x288 with 1 Axes>"
      ]
     },
     "metadata": {
      "needs_background": "light"
     },
     "output_type": "display_data"
    },
    {
     "data": {
      "image/png": "[encoded data removed]",
      "text/plain": [
       "<Figure size 432x288 with 1 Axes>"
      ]
     },
     "metadata": {
      "needs_background": "light"
     },
     "output_type": "display_data"
    },
    {
     "data": {
      "image/png": "[encoded data removed]",
      "text/plain": [
       "<Figure size 432x288 with 1 Axes>"
      ]
     },
     "metadata": {
      "needs_background": "light"
     },
     "output_type": "display_data"
    },
    {
     "data": {
      "image/png": "[encoded data removed]",
      "text/plain": [
       "<Figure size 432x288 with 1 Axes>"
      ]
     },
     "metadata": {
      "needs_background": "light"
     },
     "output_type": "display_data"
    },
    {
     "data": {
      "image/png": "[encoded data removed]",
      "text/plain": [
       "<Figure size 432x288 with 1 Axes>"
      ]
     },
     "metadata": {
      "needs_background": "light"
     },
     "output_type": "display_data"
    },
    {
     "data": {
      "image/png": "[encoded data removed]",
      "text/plain": [
       "<Figure size 432x288 with 1 Axes>"
      ]
     },
     "metadata": {
      "needs_background": "light"
     },
     "output_type": "display_data"
    },
    {
     "data": {
      "image/png": "[encoded data removed]",
      "text/plain": [
       "<Figure size 432x288 with 1 Axes>"
      ]
     },
     "metadata": {
      "needs_background": "light"
     },
     "output_type": "display_data"
    },
    {
     "data": {
      "image/png": "[encoded data removed]",
      "text/plain": [
       "<Figure size 432x288 with 1 Axes>"
      ]
     },
     "metadata": {
      "needs_background": "light"
     },
     "output_type": "display_data"
    },
    {
     "data": {
      "image/png": "[encoded data removed]",
      "text/plain": [
       "<Figure size 432x288 with 1 Axes>"
      ]
     },
     "metadata": {
      "needs_background": "light"
     },
     "output_type": "display_data"
    }
   ],
   "source": [
    "for k in diffs:\n",
    "    col = 'f' + str(k)\n",
    "    sns.boxplot(x='label', y=col, data=train)\n",
    "    plt.show()"
   ]
  },
  {
   "cell_type": "markdown",
   "metadata": {},
   "source": [
    "Будем генерить прогноз следующим образом:\n",
    "- пускай мы знаем, как ведут себя чуваки, которые покупают\n",
    "- если хотя бы для половины фич выполняется условие, то мы считаем, что чел купит\n",
    "\n",
    "Для начала найдем не только значимые, но и значительные отличия"
   ]
  },
  {
   "cell_type": "code",
   "execution_count": 266,
   "metadata": {},
   "outputs": [],
   "source": [
    "signy = []\n",
    "alpha = 0.89 # по сути это гиперпараметр, который можно подобрать"
   ]
  },
  {
   "cell_type": "code",
   "execution_count": 267,
   "metadata": {},
   "outputs": [],
   "source": [
    "for k in diffs:\n",
    "    col = 'f' + str(k)\n",
    "    row1 = np.array(train_label_yes[col].dropna())\n",
    "    row2 = np.array(train_label_no[col].dropna())\n",
    "    stat = (np.mean(row1) - np.mean(row2)) / np.mean(row1)\n",
    "    if (stat > 1 + alpha) or (stat < 1 - alpha):\n",
    "        signy.append(k)"
   ]
  },
  {
   "cell_type": "code",
   "execution_count": 268,
   "metadata": {},
   "outputs": [
    {
     "name": "stdout",
     "output_type": "stream",
     "text": [
      "[8, 9, 10, 11, 12, 15, 16, 19, 22, 25, 29]\n"
     ]
    }
   ],
   "source": [
    "print(signy)"
   ]
  },
  {
   "cell_type": "markdown",
   "metadata": {},
   "source": [
    "Пишем классификатор"
   ]
  },
  {
   "cell_type": "code",
   "execution_count": 269,
   "metadata": {},
   "outputs": [],
   "source": [
    "all_deltas = []"
   ]
  },
  {
   "cell_type": "code",
   "execution_count": 270,
   "metadata": {},
   "outputs": [],
   "source": [
    "for k in signy:\n",
    "    col = 'f' + str(k)\n",
    "    row1 = np.array(train_label_yes[col].dropna())\n",
    "    row2 = np.array(train_label_no[col].dropna())\n",
    "    \n",
    "    delta = np.mean(row1) - np.mean(row2)\n",
    "    all_deltas.append(delta)"
   ]
  },
  {
   "cell_type": "code",
   "execution_count": 271,
   "metadata": {},
   "outputs": [],
   "source": [
    "l = len(signy)\n",
    "all_means_signy = np.zeros(l)"
   ]
  },
  {
   "cell_type": "code",
   "execution_count": 272,
   "metadata": {},
   "outputs": [],
   "source": [
    "for k in range(l):\n",
    "    col = 'f' + str(signy[k])\n",
    "    row1 = np.array(train_label_yes[col].dropna())\n",
    "    all_means_signy[k] = np.mean(row1)"
   ]
  },
  {
   "cell_type": "code",
   "execution_count": 273,
   "metadata": {},
   "outputs": [],
   "source": [
    "def classifier(observation, deltas, means, sign):\n",
    "    half = len(sign) // 2\n",
    "    score = 0\n",
    "    for k in range(len(sign)):\n",
    "        col = 'f' + str(sign[k])\n",
    "        if (deltas[k] < 0) and (observation[col] < means[k]):\n",
    "            score += 1\n",
    "        if (deltas[k] > 0) and (observation[col] > means[k]):\n",
    "            score += 1\n",
    "            \n",
    "    if score > half:\n",
    "        return 1\n",
    "    else:\n",
    "        return 0"
   ]
  },
  {
   "cell_type": "code",
   "execution_count": 274,
   "metadata": {},
   "outputs": [],
   "source": [
    "x = train.iloc[1]"
   ]
  },
  {
   "cell_type": "code",
   "execution_count": 275,
   "metadata": {},
   "outputs": [
    {
     "name": "stdout",
     "output_type": "stream",
     "text": [
      "[-0.0002842850115745869, -0.00034494900949359427, 0.0005707549121027333, 0.0017933066204540715, 0.0006845419466147973, -0.0003661058559613524, 0.000393364197619369, 0.028892794677194633, -0.00865485051294448, 0.06021962794999858, -0.0008018175889742095]\n",
      "[4.13300339e-04 6.18887161e-04 1.27101904e-01 3.19459263e-01\n",
      " 1.48931538e-01 2.43248200e-03 2.30029273e-02 5.42623038e-01\n",
      " 2.09411756e-02 5.95565852e-01 8.15890773e-03]\n",
      "[8, 9, 10, 11, 12, 15, 16, 19, 22, 25, 29]\n"
     ]
    }
   ],
   "source": [
    "print(all_deltas)\n",
    "print(all_means_signy)\n",
    "print(signy)"
   ]
  },
  {
   "cell_type": "code",
   "execution_count": 276,
   "metadata": {},
   "outputs": [
    {
     "data": {
      "text/plain": [
       "0"
      ]
     },
     "execution_count": 276,
     "metadata": {},
     "output_type": "execute_result"
    }
   ],
   "source": [
    "classifier(x, all_deltas, all_means_signy, signy)"
   ]
  },
  {
   "cell_type": "markdown",
   "metadata": {},
   "source": [
    "Протестируем наш классификатор"
   ]
  },
  {
   "cell_type": "code",
   "execution_count": 277,
   "metadata": {},
   "outputs": [
    {
     "name": "stderr",
     "output_type": "stream",
     "text": [
      "100%|████████████████████████████████████████████████████████████████████████| 294258/294258 [01:15<00:00, 3899.31it/s]\n"
     ]
    }
   ],
   "source": [
    "num_row_train = train.shape[0]\n",
    "\n",
    "pred_y = np.zeros(num_row_train)\n",
    "for i in tqdm(range(num_row_train)):\n",
    "    x = train.iloc[i]\n",
    "    pred_y[i] = classifier(x, all_deltas, all_means_signy, signy)\n",
    "    \n",
    "metrics = perf_measure(np.array(train['label']), pred_y)"
   ]
  },
  {
   "cell_type": "code",
   "execution_count": 278,
   "metadata": {},
   "outputs": [
    {
     "data": {
      "text/plain": [
       "(5180, 135916, 151236, 1926)"
      ]
     },
     "execution_count": 278,
     "metadata": {},
     "output_type": "execute_result"
    }
   ],
   "source": [
    "metrics"
   ]
  },
  {
   "cell_type": "code",
   "execution_count": 279,
   "metadata": {},
   "outputs": [
    {
     "name": "stdout",
     "output_type": "stream",
     "text": [
      "accuracy: 0.5315607392152465\n",
      "precision: 0.03671259284458808\n",
      "recall: 0.7289614410357445\n"
     ]
    }
   ],
   "source": [
    "TP, FP, TN, FN = metrics[0], metrics[1], metrics[2], metrics[3]\n",
    "print(f'accuracy: {(TP + TN) / np.sum(metrics)}')\n",
    "precision = (TP) / (TP + FP)\n",
    "print(f'precision: {precision}')\n",
    "recall = TP / (TP + FN)\n",
    "print(f'recall: {recall}')"
   ]
  },
  {
   "cell_type": "code",
   "execution_count": 280,
   "metadata": {},
   "outputs": [
    {
     "name": "stdout",
     "output_type": "stream",
     "text": [
      "f1: 0.06990458968165073\n"
     ]
    }
   ],
   "source": [
    "f1 = 2 * recall * precision / (precision + recall)\n",
    "print(f'f1: {f1}')"
   ]
  },
  {
   "cell_type": "markdown",
   "metadata": {},
   "source": [
    "# Типа байесовский классификатор"
   ]
  },
  {
   "cell_type": "code",
   "execution_count": 281,
   "metadata": {},
   "outputs": [],
   "source": [
    "features = []\n",
    "for k in range(l):\n",
    "    col = 'f' + str(signy[k])\n",
    "    features.append(col)"
   ]
  },
  {
   "cell_type": "code",
   "execution_count": 282,
   "metadata": {},
   "outputs": [],
   "source": [
    "features.append('label')"
   ]
  },
  {
   "cell_type": "code",
   "execution_count": 283,
   "metadata": {},
   "outputs": [],
   "source": [
    "train_sel = train[features]"
   ]
  },
  {
   "cell_type": "code",
   "execution_count": 284,
   "metadata": {},
   "outputs": [],
   "source": [
    "train_sel_yes = train_sel.loc[train_sel['label'] == 1]\n",
    "train_sel_no = train_sel.loc[train_sel['label'] == 0]"
   ]
  },
  {
   "cell_type": "code",
   "execution_count": 285,
   "metadata": {},
   "outputs": [],
   "source": [
    "train_sel_yes = train_sel_yes.drop(['label'], axis=1)"
   ]
  },
  {
   "cell_type": "code",
   "execution_count": 286,
   "metadata": {},
   "outputs": [],
   "source": [
    "train_sel_no = train_sel_no.drop(['label'], axis=1)"
   ]
  },
  {
   "cell_type": "code",
   "execution_count": 287,
   "metadata": {},
   "outputs": [],
   "source": [
    "cov_mat_yes = train_sel_yes.cov()\n",
    "cov_mat_yes_np = np.array(cov_mat_yes)"
   ]
  },
  {
   "cell_type": "code",
   "execution_count": 288,
   "metadata": {},
   "outputs": [],
   "source": [
    "cov_mat_no = train_sel_no.cov()\n",
    "cov_mat_no_np = np.array(cov_mat_no)"
   ]
  },
  {
   "cell_type": "code",
   "execution_count": 289,
   "metadata": {},
   "outputs": [],
   "source": [
    "mean_yes = train_sel_yes.mean()\n",
    "mean_yes_np = np.array(mean_yes)"
   ]
  },
  {
   "cell_type": "code",
   "execution_count": 290,
   "metadata": {},
   "outputs": [],
   "source": [
    "mean_no = train_sel_no.mean()\n",
    "mean_no_np = np.array(mean_no)"
   ]
  },
  {
   "cell_type": "code",
   "execution_count": 291,
   "metadata": {},
   "outputs": [],
   "source": [
    "rv_yes = ss.multivariate_normal(mean_yes, cov_mat_yes)\n",
    "rv_no = ss.multivariate_normal(mean_no, cov_mat_no)"
   ]
  },
  {
   "cell_type": "code",
   "execution_count": 292,
   "metadata": {},
   "outputs": [],
   "source": [
    "train_sel_sel = train_sel.drop(['label'], axis=1)"
   ]
  },
  {
   "cell_type": "code",
   "execution_count": 293,
   "metadata": {},
   "outputs": [],
   "source": [
    "train_sel_sel = train_sel_sel.fillna(0)"
   ]
  },
  {
   "cell_type": "code",
   "execution_count": 294,
   "metadata": {},
   "outputs": [],
   "source": [
    "x = np.array(train_sel_sel.iloc[0])"
   ]
  },
  {
   "cell_type": "code",
   "execution_count": 295,
   "metadata": {},
   "outputs": [
    {
     "data": {
      "text/plain": [
       "array([0.     , 0.     , 0.12653, 0.33941, 0.14816, 0.00428, 0.     ,\n",
       "       0.26303, 0.     , 0.     , 0.01737])"
      ]
     },
     "execution_count": 295,
     "metadata": {},
     "output_type": "execute_result"
    }
   ],
   "source": [
    "x"
   ]
  },
  {
   "cell_type": "code",
   "execution_count": 296,
   "metadata": {},
   "outputs": [
    {
     "data": {
      "text/plain": [
       "18129.19803452"
      ]
     },
     "execution_count": 296,
     "metadata": {},
     "output_type": "execute_result"
    }
   ],
   "source": [
    "rv_yes.pdf(x)"
   ]
  },
  {
   "cell_type": "code",
   "execution_count": 297,
   "metadata": {},
   "outputs": [
    {
     "data": {
      "text/plain": [
       "91.45102069804517"
      ]
     },
     "execution_count": 297,
     "metadata": {},
     "output_type": "execute_result"
    }
   ],
   "source": [
    "rv_no.pdf(x)"
   ]
  },
  {
   "cell_type": "code",
   "execution_count": 298,
   "metadata": {},
   "outputs": [
    {
     "data": {
      "text/plain": [
       "0.994980913115614"
      ]
     },
     "execution_count": 298,
     "metadata": {},
     "output_type": "execute_result"
    }
   ],
   "source": [
    "a = rv_yes.pdf(x)\n",
    "b = rv_no.pdf(x)\n",
    "rule = a / (a + b)\n",
    "rule"
   ]
  },
  {
   "cell_type": "code",
   "execution_count": 317,
   "metadata": {},
   "outputs": [
    {
     "name": "stderr",
     "output_type": "stream",
     "text": [
      "  1%|▋                                                                         | 2559/294258 [00:00<00:55, 5213.79it/s]C:\\Anaconda\\lib\\site-packages\\ipykernel_launcher.py:8: RuntimeWarning: invalid value encountered in double_scalars\n",
      "  \n",
      "100%|████████████████████████████████████████████████████████████████████████| 294258/294258 [00:51<00:00, 5660.00it/s]\n"
     ]
    }
   ],
   "source": [
    "le = train_sel_sel.shape[0]\n",
    "probs = np.zeros(le)\n",
    "ans = np.zeros(le)\n",
    "for i in tqdm(range(le)):\n",
    "    x = np.array(train_sel_sel.iloc[i])\n",
    "    a = rv_yes.pdf(x)\n",
    "    b = rv_no.pdf(x)\n",
    "    rule = a / (a + b)\n",
    "    probs[i] = rule\n",
    "    if rule > 0.90:\n",
    "        ans[i] = 1"
   ]
  },
  {
   "cell_type": "code",
   "execution_count": 318,
   "metadata": {},
   "outputs": [],
   "source": [
    "metrics = perf_measure(np.array(train['label']), ans)"
   ]
  },
  {
   "cell_type": "code",
   "execution_count": 319,
   "metadata": {},
   "outputs": [
    {
     "name": "stdout",
     "output_type": "stream",
     "text": [
      "accuracy: 0.9179053755547852\n",
      "precision: 0.08234948317248812\n",
      "recall: 0.2365606529693217\n",
      "f1: 0.12217013699625713\n"
     ]
    }
   ],
   "source": [
    "TP, FP, TN, FN = metrics[0], metrics[1], metrics[2], metrics[3]\n",
    "print(f'accuracy: {(TP + TN) / np.sum(metrics)}')\n",
    "precision = (TP) / (TP + FP)\n",
    "print(f'precision: {precision}')\n",
    "recall = TP / (TP + FN)\n",
    "print(f'recall: {recall}')\n",
    "f1 = 2 * recall * precision / (precision + recall)\n",
    "print(f'f1: {f1}')"
   ]
  },
  {
   "cell_type": "code",
   "execution_count": 341,
   "metadata": {},
   "outputs": [],
   "source": [
    "c = pd.DataFrame(probs).dropna()\n",
    "ind = c.sort_values(by=0)[-int(len(c)*0.05):].index"
   ]
  },
  {
   "cell_type": "code",
   "execution_count": 342,
   "metadata": {},
   "outputs": [
    {
     "data": {
      "text/plain": [
       "14709"
      ]
     },
     "execution_count": 342,
     "metadata": {},
     "output_type": "execute_result"
    }
   ],
   "source": [
    "len(ind)"
   ]
  },
  {
   "cell_type": "code",
   "execution_count": 343,
   "metadata": {
    "scrolled": true
   },
   "outputs": [
    {
     "data": {
      "text/plain": [
       "0.08097083418315316"
      ]
     },
     "execution_count": 343,
     "metadata": {},
     "output_type": "execute_result"
    }
   ],
   "source": [
    "some_sel_pd = train.iloc[ind]\n",
    "some_sel_pd['label'].sum() / len(ind)"
   ]
  },
  {
   "cell_type": "code",
   "execution_count": 349,
   "metadata": {},
   "outputs": [],
   "source": [
    "train['probs'] = probs"
   ]
  },
  {
   "cell_type": "code",
   "execution_count": 358,
   "metadata": {},
   "outputs": [],
   "source": [
    "train['pred'] = round(train['label'] - train['probs'] + 0.3, 0)"
   ]
  },
  {
   "cell_type": "code",
   "execution_count": 360,
   "metadata": {},
   "outputs": [],
   "source": [
    "# TP, FP, TN, FN\n",
    "metrics = perf_measure(train['label'], train['pred'])"
   ]
  },
  {
   "cell_type": "code",
   "execution_count": 361,
   "metadata": {},
   "outputs": [
    {
     "name": "stdout",
     "output_type": "stream",
     "text": [
      "accuracy: 0.9899440828323212\n",
      "precision: 1.0\n",
      "recall: 0.6296452702702703\n",
      "f1: 0.7727390515677637\n"
     ]
    }
   ],
   "source": [
    "TP, FP, TN, FN = metrics[0], metrics[1], metrics[2], metrics[3]\n",
    "print(f'accuracy: {(TP + TN) / np.sum(metrics)}')\n",
    "precision = (TP) / (TP + FP)\n",
    "print(f'precision: {precision}')\n",
    "recall = TP / (TP + FN)\n",
    "print(f'recall: {recall}')\n",
    "f1 = 2 * recall * precision / (precision + recall)\n",
    "print(f'f1: {f1}')"
   ]
  },
  {
   "cell_type": "code",
   "execution_count": 364,
   "metadata": {},
   "outputs": [],
   "source": [
    "test_sel = test[features]"
   ]
  },
  {
   "cell_type": "code",
   "execution_count": 365,
   "metadata": {},
   "outputs": [],
   "source": [
    "test_sel_sel = test_sel.drop(['label'], axis=1)\n",
    "test_sel_sel = test_sel_sel.fillna(0)"
   ]
  },
  {
   "cell_type": "code",
   "execution_count": 367,
   "metadata": {},
   "outputs": [
    {
     "name": "stderr",
     "output_type": "stream",
     "text": [
      "  1%|█                                                                         | 2288/152766 [00:00<00:31, 4849.24it/s]C:\\Anaconda\\lib\\site-packages\\ipykernel_launcher.py:8: RuntimeWarning: invalid value encountered in double_scalars\n",
      "  \n",
      "100%|████████████████████████████████████████████████████████████████████████| 152766/152766 [00:30<00:00, 5030.44it/s]\n"
     ]
    }
   ],
   "source": [
    "le = test_sel_sel.shape[0]\n",
    "probs = np.zeros(le)\n",
    "ans = np.zeros(le)\n",
    "for i in tqdm(range(le)):\n",
    "    x = np.array(train_sel_sel.iloc[i])\n",
    "    a = rv_yes.pdf(x)\n",
    "    b = rv_no.pdf(x)\n",
    "    rule = a / (a + b)\n",
    "    probs[i] = rule\n",
    "    if rule > 0.90:\n",
    "        ans[i] = 1"
   ]
  },
  {
   "cell_type": "code",
   "execution_count": 368,
   "metadata": {},
   "outputs": [],
   "source": [
    "test['probs'] = probs\n",
    "test['pred'] = round(test['label'] - test['probs'] + 0.3, 0)"
   ]
  },
  {
   "cell_type": "code",
   "execution_count": 370,
   "metadata": {},
   "outputs": [
    {
     "name": "stdout",
     "output_type": "stream",
     "text": [
      "accuracy: 0.9896770207752651\n",
      "precision: 1.0\n",
      "recall: 0.5533105377681069\n",
      "f1: 0.7124274564738843\n"
     ]
    }
   ],
   "source": [
    "# TP, FP, TN, FN\n",
    "metrics = perf_measure(test['label'], test['pred'])\n",
    "TP, FP, TN, FN = metrics[0], metrics[1], metrics[2], metrics[3]\n",
    "print(f'accuracy: {(TP + TN) / np.sum(metrics)}')\n",
    "precision = (TP) / (TP + FP)\n",
    "print(f'precision: {precision}')\n",
    "recall = TP / (TP + FN)\n",
    "print(f'recall: {recall}')\n",
    "f1 = 2 * recall * precision / (precision + recall)\n",
    "print(f'f1: {f1}')"
   ]
  },
  {
   "cell_type": "code",
   "execution_count": 386,
   "metadata": {},
   "outputs": [],
   "source": [
    "test_test = pd.read_csv('test dataset.csv', sep=';')"
   ]
  },
  {
   "cell_type": "code",
   "execution_count": 387,
   "metadata": {},
   "outputs": [
    {
     "data": {
      "text/html": [
       "<div>\n",
       "<style scoped>\n",
       "    .dataframe tbody tr th:only-of-type {\n",
       "        vertical-align: middle;\n",
       "    }\n",
       "\n",
       "    .dataframe tbody tr th {\n",
       "        vertical-align: top;\n",
       "    }\n",
       "\n",
       "    .dataframe thead th {\n",
       "        text-align: right;\n",
       "    }\n",
       "</style>\n",
       "<table border=\"1\" class=\"dataframe\">\n",
       "  <thead>\n",
       "    <tr style=\"text-align: right;\">\n",
       "      <th></th>\n",
       "      <th>label</th>\n",
       "      <th>period</th>\n",
       "      <th>subject_type</th>\n",
       "      <th>subject_name</th>\n",
       "      <th>city_name</th>\n",
       "      <th>hex</th>\n",
       "      <th>hex_lat</th>\n",
       "      <th>hex_lon</th>\n",
       "      <th>f1</th>\n",
       "      <th>f2</th>\n",
       "      <th>f3</th>\n",
       "      <th>f4</th>\n",
       "      <th>f5</th>\n",
       "      <th>f6</th>\n",
       "      <th>f7</th>\n",
       "      <th>f8</th>\n",
       "      <th>f9</th>\n",
       "      <th>f10</th>\n",
       "      <th>f11</th>\n",
       "      <th>f12</th>\n",
       "      <th>f13</th>\n",
       "      <th>f14</th>\n",
       "      <th>f15</th>\n",
       "      <th>f16</th>\n",
       "      <th>f17</th>\n",
       "      <th>f18</th>\n",
       "      <th>f19</th>\n",
       "      <th>f20</th>\n",
       "      <th>f21</th>\n",
       "      <th>f22</th>\n",
       "      <th>f23</th>\n",
       "      <th>f24</th>\n",
       "      <th>f25</th>\n",
       "      <th>f26</th>\n",
       "      <th>f27</th>\n",
       "      <th>f28</th>\n",
       "      <th>f29</th>\n",
       "      <th>f30</th>\n",
       "      <th>id</th>\n",
       "    </tr>\n",
       "  </thead>\n",
       "  <tbody>\n",
       "    <tr>\n",
       "      <th>0</th>\n",
       "      <td>0</td>\n",
       "      <td>2020-11-01</td>\n",
       "      <td>Город</td>\n",
       "      <td>Москва</td>\n",
       "      <td>Москва</td>\n",
       "      <td>8611aa627ffffff</td>\n",
       "      <td>55.855726</td>\n",
       "      <td>37.669858</td>\n",
       "      <td>0.00115</td>\n",
       "      <td>0.00082</td>\n",
       "      <td>0.00099</td>\n",
       "      <td>0.0</td>\n",
       "      <td>0.0</td>\n",
       "      <td>0.01028</td>\n",
       "      <td>NaN</td>\n",
       "      <td>0.0</td>\n",
       "      <td>0.0</td>\n",
       "      <td>0.12721</td>\n",
       "      <td>0.31457</td>\n",
       "      <td>0.14915</td>\n",
       "      <td>NaN</td>\n",
       "      <td>0.0</td>\n",
       "      <td>0.00503</td>\n",
       "      <td>NaN</td>\n",
       "      <td>NaN</td>\n",
       "      <td>0.00898</td>\n",
       "      <td>0.29623</td>\n",
       "      <td>0.02424</td>\n",
       "      <td>0.14273</td>\n",
       "      <td>0.0</td>\n",
       "      <td>0.00000</td>\n",
       "      <td>NaN</td>\n",
       "      <td>NaN</td>\n",
       "      <td>NaN</td>\n",
       "      <td>NaN</td>\n",
       "      <td>NaN</td>\n",
       "      <td>0.00449</td>\n",
       "      <td>0.0</td>\n",
       "      <td>1</td>\n",
       "    </tr>\n",
       "    <tr>\n",
       "      <th>1</th>\n",
       "      <td>0</td>\n",
       "      <td>2020-11-01</td>\n",
       "      <td>Город</td>\n",
       "      <td>Москва</td>\n",
       "      <td>Москва</td>\n",
       "      <td>8611aa797ffffff</td>\n",
       "      <td>55.647024</td>\n",
       "      <td>37.609130</td>\n",
       "      <td>0.00206</td>\n",
       "      <td>0.00242</td>\n",
       "      <td>0.00340</td>\n",
       "      <td>0.0</td>\n",
       "      <td>0.0</td>\n",
       "      <td>0.02266</td>\n",
       "      <td>0.00025</td>\n",
       "      <td>0.0</td>\n",
       "      <td>0.0</td>\n",
       "      <td>0.12628</td>\n",
       "      <td>0.32275</td>\n",
       "      <td>0.14791</td>\n",
       "      <td>0.0</td>\n",
       "      <td>0.0</td>\n",
       "      <td>0.00123</td>\n",
       "      <td>0.0241</td>\n",
       "      <td>0.00936</td>\n",
       "      <td>0.01720</td>\n",
       "      <td>0.23342</td>\n",
       "      <td>0.02948</td>\n",
       "      <td>0.14251</td>\n",
       "      <td>0.0</td>\n",
       "      <td>0.00000</td>\n",
       "      <td>0.07368</td>\n",
       "      <td>0.63158</td>\n",
       "      <td>0.01053</td>\n",
       "      <td>0.04210</td>\n",
       "      <td>0.02105</td>\n",
       "      <td>0.00491</td>\n",
       "      <td>0.0</td>\n",
       "      <td>2</td>\n",
       "    </tr>\n",
       "    <tr>\n",
       "      <th>2</th>\n",
       "      <td>0</td>\n",
       "      <td>2020-11-01</td>\n",
       "      <td>Город</td>\n",
       "      <td>Москва</td>\n",
       "      <td>Москва</td>\n",
       "      <td>8611aa71fffffff</td>\n",
       "      <td>55.821708</td>\n",
       "      <td>37.589846</td>\n",
       "      <td>0.00082</td>\n",
       "      <td>0.00068</td>\n",
       "      <td>0.00082</td>\n",
       "      <td>0.0</td>\n",
       "      <td>0.0</td>\n",
       "      <td>0.01098</td>\n",
       "      <td>0.00000</td>\n",
       "      <td>0.0</td>\n",
       "      <td>0.0</td>\n",
       "      <td>0.12606</td>\n",
       "      <td>0.31983</td>\n",
       "      <td>0.14770</td>\n",
       "      <td>0.0</td>\n",
       "      <td>0.0</td>\n",
       "      <td>0.00048</td>\n",
       "      <td>0.0241</td>\n",
       "      <td>0.00002</td>\n",
       "      <td>0.00559</td>\n",
       "      <td>0.24980</td>\n",
       "      <td>0.02314</td>\n",
       "      <td>0.15323</td>\n",
       "      <td>0.0</td>\n",
       "      <td>0.00000</td>\n",
       "      <td>0.14058</td>\n",
       "      <td>0.67093</td>\n",
       "      <td>0.00958</td>\n",
       "      <td>0.03195</td>\n",
       "      <td>0.00320</td>\n",
       "      <td>0.00798</td>\n",
       "      <td>0.0</td>\n",
       "      <td>3</td>\n",
       "    </tr>\n",
       "    <tr>\n",
       "      <th>3</th>\n",
       "      <td>0</td>\n",
       "      <td>2020-11-01</td>\n",
       "      <td>Город</td>\n",
       "      <td>Москва</td>\n",
       "      <td>Москва</td>\n",
       "      <td>8611aa627ffffff</td>\n",
       "      <td>55.855726</td>\n",
       "      <td>37.669858</td>\n",
       "      <td>0.00118</td>\n",
       "      <td>0.00195</td>\n",
       "      <td>0.00258</td>\n",
       "      <td>0.0</td>\n",
       "      <td>0.0</td>\n",
       "      <td>0.01306</td>\n",
       "      <td>NaN</td>\n",
       "      <td>0.0</td>\n",
       "      <td>0.0</td>\n",
       "      <td>0.12664</td>\n",
       "      <td>0.32194</td>\n",
       "      <td>0.14826</td>\n",
       "      <td>NaN</td>\n",
       "      <td>0.0</td>\n",
       "      <td>0.00254</td>\n",
       "      <td>NaN</td>\n",
       "      <td>NaN</td>\n",
       "      <td>0.01207</td>\n",
       "      <td>0.22624</td>\n",
       "      <td>0.03017</td>\n",
       "      <td>0.16139</td>\n",
       "      <td>0.0</td>\n",
       "      <td>0.00151</td>\n",
       "      <td>NaN</td>\n",
       "      <td>NaN</td>\n",
       "      <td>NaN</td>\n",
       "      <td>NaN</td>\n",
       "      <td>NaN</td>\n",
       "      <td>0.00905</td>\n",
       "      <td>0.0</td>\n",
       "      <td>4</td>\n",
       "    </tr>\n",
       "    <tr>\n",
       "      <th>4</th>\n",
       "      <td>0</td>\n",
       "      <td>2020-11-01</td>\n",
       "      <td>Город</td>\n",
       "      <td>Москва</td>\n",
       "      <td>Москва</td>\n",
       "      <td>8611aa4efffffff</td>\n",
       "      <td>55.637199</td>\n",
       "      <td>37.443663</td>\n",
       "      <td>0.00079</td>\n",
       "      <td>0.00092</td>\n",
       "      <td>0.00096</td>\n",
       "      <td>0.0</td>\n",
       "      <td>0.0</td>\n",
       "      <td>0.41867</td>\n",
       "      <td>NaN</td>\n",
       "      <td>0.0</td>\n",
       "      <td>0.0</td>\n",
       "      <td>0.12606</td>\n",
       "      <td>0.32012</td>\n",
       "      <td>0.14770</td>\n",
       "      <td>NaN</td>\n",
       "      <td>0.0</td>\n",
       "      <td>0.00244</td>\n",
       "      <td>NaN</td>\n",
       "      <td>NaN</td>\n",
       "      <td>0.01532</td>\n",
       "      <td>0.23398</td>\n",
       "      <td>0.02925</td>\n",
       "      <td>0.12674</td>\n",
       "      <td>0.0</td>\n",
       "      <td>0.00000</td>\n",
       "      <td>NaN</td>\n",
       "      <td>NaN</td>\n",
       "      <td>NaN</td>\n",
       "      <td>NaN</td>\n",
       "      <td>NaN</td>\n",
       "      <td>0.01254</td>\n",
       "      <td>0.0</td>\n",
       "      <td>5</td>\n",
       "    </tr>\n",
       "  </tbody>\n",
       "</table>\n",
       "</div>"
      ],
      "text/plain": [
       "   label      period subject_type subject_name city_name              hex  \\\n",
       "0      0  2020-11-01        Город       Москва    Москва  8611aa627ffffff   \n",
       "1      0  2020-11-01        Город       Москва    Москва  8611aa797ffffff   \n",
       "2      0  2020-11-01        Город       Москва    Москва  8611aa71fffffff   \n",
       "3      0  2020-11-01        Город       Москва    Москва  8611aa627ffffff   \n",
       "4      0  2020-11-01        Город       Москва    Москва  8611aa4efffffff   \n",
       "\n",
       "     hex_lat    hex_lon       f1       f2       f3   f4   f5       f6  \\\n",
       "0  55.855726  37.669858  0.00115  0.00082  0.00099  0.0  0.0  0.01028   \n",
       "1  55.647024  37.609130  0.00206  0.00242  0.00340  0.0  0.0  0.02266   \n",
       "2  55.821708  37.589846  0.00082  0.00068  0.00082  0.0  0.0  0.01098   \n",
       "3  55.855726  37.669858  0.00118  0.00195  0.00258  0.0  0.0  0.01306   \n",
       "4  55.637199  37.443663  0.00079  0.00092  0.00096  0.0  0.0  0.41867   \n",
       "\n",
       "        f7   f8   f9      f10      f11      f12  f13  f14      f15     f16  \\\n",
       "0      NaN  0.0  0.0  0.12721  0.31457  0.14915  NaN  0.0  0.00503     NaN   \n",
       "1  0.00025  0.0  0.0  0.12628  0.32275  0.14791  0.0  0.0  0.00123  0.0241   \n",
       "2  0.00000  0.0  0.0  0.12606  0.31983  0.14770  0.0  0.0  0.00048  0.0241   \n",
       "3      NaN  0.0  0.0  0.12664  0.32194  0.14826  NaN  0.0  0.00254     NaN   \n",
       "4      NaN  0.0  0.0  0.12606  0.32012  0.14770  NaN  0.0  0.00244     NaN   \n",
       "\n",
       "       f17      f18      f19      f20      f21  f22      f23      f24  \\\n",
       "0      NaN  0.00898  0.29623  0.02424  0.14273  0.0  0.00000      NaN   \n",
       "1  0.00936  0.01720  0.23342  0.02948  0.14251  0.0  0.00000  0.07368   \n",
       "2  0.00002  0.00559  0.24980  0.02314  0.15323  0.0  0.00000  0.14058   \n",
       "3      NaN  0.01207  0.22624  0.03017  0.16139  0.0  0.00151      NaN   \n",
       "4      NaN  0.01532  0.23398  0.02925  0.12674  0.0  0.00000      NaN   \n",
       "\n",
       "       f25      f26      f27      f28      f29  f30  id  \n",
       "0      NaN      NaN      NaN      NaN  0.00449  0.0   1  \n",
       "1  0.63158  0.01053  0.04210  0.02105  0.00491  0.0   2  \n",
       "2  0.67093  0.00958  0.03195  0.00320  0.00798  0.0   3  \n",
       "3      NaN      NaN      NaN      NaN  0.00905  0.0   4  \n",
       "4      NaN      NaN      NaN      NaN  0.01254  0.0   5  "
      ]
     },
     "execution_count": 387,
     "metadata": {},
     "output_type": "execute_result"
    }
   ],
   "source": [
    "test_test.head()"
   ]
  },
  {
   "cell_type": "code",
   "execution_count": 388,
   "metadata": {},
   "outputs": [],
   "source": [
    "test_test_sel = test_test[features]\n",
    "test_test_sel_sel = test_test_sel.drop(['label'], axis=1)\n",
    "test_test_sel_sel = test_test_sel_sel.fillna(0)"
   ]
  },
  {
   "cell_type": "code",
   "execution_count": 389,
   "metadata": {},
   "outputs": [
    {
     "name": "stderr",
     "output_type": "stream",
     "text": [
      "  0%|▎                                                                          | 615/151791 [00:00<00:47, 3188.55it/s]C:\\Anaconda\\lib\\site-packages\\ipykernel_launcher.py:8: RuntimeWarning: invalid value encountered in double_scalars\n",
      "  \n",
      "100%|████████████████████████████████████████████████████████████████████████| 151791/151791 [00:29<00:00, 5160.41it/s]\n"
     ]
    }
   ],
   "source": [
    "le = test_test_sel_sel.shape[0]\n",
    "probs = np.zeros(le)\n",
    "ans = np.zeros(le)\n",
    "for i in tqdm(range(le)):\n",
    "    x = np.array(test_test_sel_sel.iloc[i])\n",
    "    a = rv_yes.pdf(x)\n",
    "    b = rv_no.pdf(x)\n",
    "    rule = a / (a + b)\n",
    "    probs[i] = rule\n",
    "    if rule > 0.90:\n",
    "        ans[i] = 1"
   ]
  },
  {
   "cell_type": "code",
   "execution_count": 390,
   "metadata": {},
   "outputs": [],
   "source": [
    "test_test['probs'] = probs"
   ]
  },
  {
   "cell_type": "code",
   "execution_count": 391,
   "metadata": {},
   "outputs": [
    {
     "data": {
      "text/html": [
       "<div>\n",
       "<style scoped>\n",
       "    .dataframe tbody tr th:only-of-type {\n",
       "        vertical-align: middle;\n",
       "    }\n",
       "\n",
       "    .dataframe tbody tr th {\n",
       "        vertical-align: top;\n",
       "    }\n",
       "\n",
       "    .dataframe thead th {\n",
       "        text-align: right;\n",
       "    }\n",
       "</style>\n",
       "<table border=\"1\" class=\"dataframe\">\n",
       "  <thead>\n",
       "    <tr style=\"text-align: right;\">\n",
       "      <th></th>\n",
       "      <th>label</th>\n",
       "      <th>period</th>\n",
       "      <th>subject_type</th>\n",
       "      <th>subject_name</th>\n",
       "      <th>city_name</th>\n",
       "      <th>hex</th>\n",
       "      <th>hex_lat</th>\n",
       "      <th>hex_lon</th>\n",
       "      <th>f1</th>\n",
       "      <th>f2</th>\n",
       "      <th>f3</th>\n",
       "      <th>f4</th>\n",
       "      <th>f5</th>\n",
       "      <th>f6</th>\n",
       "      <th>f7</th>\n",
       "      <th>f8</th>\n",
       "      <th>f9</th>\n",
       "      <th>f10</th>\n",
       "      <th>f11</th>\n",
       "      <th>f12</th>\n",
       "      <th>f13</th>\n",
       "      <th>f14</th>\n",
       "      <th>f15</th>\n",
       "      <th>f16</th>\n",
       "      <th>f17</th>\n",
       "      <th>f18</th>\n",
       "      <th>f19</th>\n",
       "      <th>f20</th>\n",
       "      <th>f21</th>\n",
       "      <th>f22</th>\n",
       "      <th>f23</th>\n",
       "      <th>f24</th>\n",
       "      <th>f25</th>\n",
       "      <th>f26</th>\n",
       "      <th>f27</th>\n",
       "      <th>f28</th>\n",
       "      <th>f29</th>\n",
       "      <th>f30</th>\n",
       "      <th>id</th>\n",
       "      <th>probs</th>\n",
       "    </tr>\n",
       "  </thead>\n",
       "  <tbody>\n",
       "    <tr>\n",
       "      <th>0</th>\n",
       "      <td>0</td>\n",
       "      <td>2020-11-01</td>\n",
       "      <td>Город</td>\n",
       "      <td>Москва</td>\n",
       "      <td>Москва</td>\n",
       "      <td>8611aa627ffffff</td>\n",
       "      <td>55.855726</td>\n",
       "      <td>37.669858</td>\n",
       "      <td>0.00115</td>\n",
       "      <td>0.00082</td>\n",
       "      <td>0.00099</td>\n",
       "      <td>0.00000</td>\n",
       "      <td>0.0</td>\n",
       "      <td>0.01028</td>\n",
       "      <td>NaN</td>\n",
       "      <td>0.00000</td>\n",
       "      <td>0.00000</td>\n",
       "      <td>0.12721</td>\n",
       "      <td>0.31457</td>\n",
       "      <td>0.14915</td>\n",
       "      <td>NaN</td>\n",
       "      <td>0.0</td>\n",
       "      <td>0.00503</td>\n",
       "      <td>NaN</td>\n",
       "      <td>NaN</td>\n",
       "      <td>0.00898</td>\n",
       "      <td>0.29623</td>\n",
       "      <td>0.02424</td>\n",
       "      <td>0.14273</td>\n",
       "      <td>0.00000</td>\n",
       "      <td>0.00000</td>\n",
       "      <td>NaN</td>\n",
       "      <td>NaN</td>\n",
       "      <td>NaN</td>\n",
       "      <td>NaN</td>\n",
       "      <td>NaN</td>\n",
       "      <td>0.00449</td>\n",
       "      <td>0.00000</td>\n",
       "      <td>1</td>\n",
       "      <td>0.004242</td>\n",
       "    </tr>\n",
       "    <tr>\n",
       "      <th>1</th>\n",
       "      <td>0</td>\n",
       "      <td>2020-11-01</td>\n",
       "      <td>Город</td>\n",
       "      <td>Москва</td>\n",
       "      <td>Москва</td>\n",
       "      <td>8611aa797ffffff</td>\n",
       "      <td>55.647024</td>\n",
       "      <td>37.609130</td>\n",
       "      <td>0.00206</td>\n",
       "      <td>0.00242</td>\n",
       "      <td>0.00340</td>\n",
       "      <td>0.00000</td>\n",
       "      <td>0.0</td>\n",
       "      <td>0.02266</td>\n",
       "      <td>0.00025</td>\n",
       "      <td>0.00000</td>\n",
       "      <td>0.00000</td>\n",
       "      <td>0.12628</td>\n",
       "      <td>0.32275</td>\n",
       "      <td>0.14791</td>\n",
       "      <td>0.0</td>\n",
       "      <td>0.0</td>\n",
       "      <td>0.00123</td>\n",
       "      <td>0.0241</td>\n",
       "      <td>0.00936</td>\n",
       "      <td>0.01720</td>\n",
       "      <td>0.23342</td>\n",
       "      <td>0.02948</td>\n",
       "      <td>0.14251</td>\n",
       "      <td>0.00000</td>\n",
       "      <td>0.00000</td>\n",
       "      <td>0.07368</td>\n",
       "      <td>0.63158</td>\n",
       "      <td>0.01053</td>\n",
       "      <td>0.04210</td>\n",
       "      <td>0.02105</td>\n",
       "      <td>0.00491</td>\n",
       "      <td>0.00000</td>\n",
       "      <td>2</td>\n",
       "      <td>0.792934</td>\n",
       "    </tr>\n",
       "    <tr>\n",
       "      <th>2</th>\n",
       "      <td>0</td>\n",
       "      <td>2020-11-01</td>\n",
       "      <td>Город</td>\n",
       "      <td>Москва</td>\n",
       "      <td>Москва</td>\n",
       "      <td>8611aa71fffffff</td>\n",
       "      <td>55.821708</td>\n",
       "      <td>37.589846</td>\n",
       "      <td>0.00082</td>\n",
       "      <td>0.00068</td>\n",
       "      <td>0.00082</td>\n",
       "      <td>0.00000</td>\n",
       "      <td>0.0</td>\n",
       "      <td>0.01098</td>\n",
       "      <td>0.00000</td>\n",
       "      <td>0.00000</td>\n",
       "      <td>0.00000</td>\n",
       "      <td>0.12606</td>\n",
       "      <td>0.31983</td>\n",
       "      <td>0.14770</td>\n",
       "      <td>0.0</td>\n",
       "      <td>0.0</td>\n",
       "      <td>0.00048</td>\n",
       "      <td>0.0241</td>\n",
       "      <td>0.00002</td>\n",
       "      <td>0.00559</td>\n",
       "      <td>0.24980</td>\n",
       "      <td>0.02314</td>\n",
       "      <td>0.15323</td>\n",
       "      <td>0.00000</td>\n",
       "      <td>0.00000</td>\n",
       "      <td>0.14058</td>\n",
       "      <td>0.67093</td>\n",
       "      <td>0.00958</td>\n",
       "      <td>0.03195</td>\n",
       "      <td>0.00320</td>\n",
       "      <td>0.00798</td>\n",
       "      <td>0.00000</td>\n",
       "      <td>3</td>\n",
       "      <td>0.596743</td>\n",
       "    </tr>\n",
       "    <tr>\n",
       "      <th>3</th>\n",
       "      <td>0</td>\n",
       "      <td>2020-11-01</td>\n",
       "      <td>Город</td>\n",
       "      <td>Москва</td>\n",
       "      <td>Москва</td>\n",
       "      <td>8611aa627ffffff</td>\n",
       "      <td>55.855726</td>\n",
       "      <td>37.669858</td>\n",
       "      <td>0.00118</td>\n",
       "      <td>0.00195</td>\n",
       "      <td>0.00258</td>\n",
       "      <td>0.00000</td>\n",
       "      <td>0.0</td>\n",
       "      <td>0.01306</td>\n",
       "      <td>NaN</td>\n",
       "      <td>0.00000</td>\n",
       "      <td>0.00000</td>\n",
       "      <td>0.12664</td>\n",
       "      <td>0.32194</td>\n",
       "      <td>0.14826</td>\n",
       "      <td>NaN</td>\n",
       "      <td>0.0</td>\n",
       "      <td>0.00254</td>\n",
       "      <td>NaN</td>\n",
       "      <td>NaN</td>\n",
       "      <td>0.01207</td>\n",
       "      <td>0.22624</td>\n",
       "      <td>0.03017</td>\n",
       "      <td>0.16139</td>\n",
       "      <td>0.00000</td>\n",
       "      <td>0.00151</td>\n",
       "      <td>NaN</td>\n",
       "      <td>NaN</td>\n",
       "      <td>NaN</td>\n",
       "      <td>NaN</td>\n",
       "      <td>NaN</td>\n",
       "      <td>0.00905</td>\n",
       "      <td>0.00000</td>\n",
       "      <td>4</td>\n",
       "      <td>0.042549</td>\n",
       "    </tr>\n",
       "    <tr>\n",
       "      <th>4</th>\n",
       "      <td>0</td>\n",
       "      <td>2020-11-01</td>\n",
       "      <td>Город</td>\n",
       "      <td>Москва</td>\n",
       "      <td>Москва</td>\n",
       "      <td>8611aa4efffffff</td>\n",
       "      <td>55.637199</td>\n",
       "      <td>37.443663</td>\n",
       "      <td>0.00079</td>\n",
       "      <td>0.00092</td>\n",
       "      <td>0.00096</td>\n",
       "      <td>0.00000</td>\n",
       "      <td>0.0</td>\n",
       "      <td>0.41867</td>\n",
       "      <td>NaN</td>\n",
       "      <td>0.00000</td>\n",
       "      <td>0.00000</td>\n",
       "      <td>0.12606</td>\n",
       "      <td>0.32012</td>\n",
       "      <td>0.14770</td>\n",
       "      <td>NaN</td>\n",
       "      <td>0.0</td>\n",
       "      <td>0.00244</td>\n",
       "      <td>NaN</td>\n",
       "      <td>NaN</td>\n",
       "      <td>0.01532</td>\n",
       "      <td>0.23398</td>\n",
       "      <td>0.02925</td>\n",
       "      <td>0.12674</td>\n",
       "      <td>0.00000</td>\n",
       "      <td>0.00000</td>\n",
       "      <td>NaN</td>\n",
       "      <td>NaN</td>\n",
       "      <td>NaN</td>\n",
       "      <td>NaN</td>\n",
       "      <td>NaN</td>\n",
       "      <td>0.01254</td>\n",
       "      <td>0.00000</td>\n",
       "      <td>5</td>\n",
       "      <td>0.026755</td>\n",
       "    </tr>\n",
       "    <tr>\n",
       "      <th>...</th>\n",
       "      <td>...</td>\n",
       "      <td>...</td>\n",
       "      <td>...</td>\n",
       "      <td>...</td>\n",
       "      <td>...</td>\n",
       "      <td>...</td>\n",
       "      <td>...</td>\n",
       "      <td>...</td>\n",
       "      <td>...</td>\n",
       "      <td>...</td>\n",
       "      <td>...</td>\n",
       "      <td>...</td>\n",
       "      <td>...</td>\n",
       "      <td>...</td>\n",
       "      <td>...</td>\n",
       "      <td>...</td>\n",
       "      <td>...</td>\n",
       "      <td>...</td>\n",
       "      <td>...</td>\n",
       "      <td>...</td>\n",
       "      <td>...</td>\n",
       "      <td>...</td>\n",
       "      <td>...</td>\n",
       "      <td>...</td>\n",
       "      <td>...</td>\n",
       "      <td>...</td>\n",
       "      <td>...</td>\n",
       "      <td>...</td>\n",
       "      <td>...</td>\n",
       "      <td>...</td>\n",
       "      <td>...</td>\n",
       "      <td>...</td>\n",
       "      <td>...</td>\n",
       "      <td>...</td>\n",
       "      <td>...</td>\n",
       "      <td>...</td>\n",
       "      <td>...</td>\n",
       "      <td>...</td>\n",
       "      <td>...</td>\n",
       "      <td>...</td>\n",
       "    </tr>\n",
       "    <tr>\n",
       "      <th>151786</th>\n",
       "      <td>0</td>\n",
       "      <td>2021-06-01</td>\n",
       "      <td>Край</td>\n",
       "      <td>Приморский</td>\n",
       "      <td>Артем</td>\n",
       "      <td>86316c8d7ffffff</td>\n",
       "      <td>43.352653</td>\n",
       "      <td>132.244424</td>\n",
       "      <td>0.00043</td>\n",
       "      <td>0.00051</td>\n",
       "      <td>0.00058</td>\n",
       "      <td>0.00000</td>\n",
       "      <td>0.0</td>\n",
       "      <td>0.25940</td>\n",
       "      <td>0.00000</td>\n",
       "      <td>0.00000</td>\n",
       "      <td>0.00000</td>\n",
       "      <td>0.12708</td>\n",
       "      <td>0.32035</td>\n",
       "      <td>0.14869</td>\n",
       "      <td>0.0</td>\n",
       "      <td>0.0</td>\n",
       "      <td>0.00063</td>\n",
       "      <td>0.0241</td>\n",
       "      <td>0.09569</td>\n",
       "      <td>0.06061</td>\n",
       "      <td>0.69403</td>\n",
       "      <td>0.02985</td>\n",
       "      <td>0.26119</td>\n",
       "      <td>0.04478</td>\n",
       "      <td>0.00000</td>\n",
       "      <td>0.30208</td>\n",
       "      <td>0.54167</td>\n",
       "      <td>0.00000</td>\n",
       "      <td>0.00000</td>\n",
       "      <td>0.09375</td>\n",
       "      <td>0.05224</td>\n",
       "      <td>0.00000</td>\n",
       "      <td>151787</td>\n",
       "      <td>0.622479</td>\n",
       "    </tr>\n",
       "    <tr>\n",
       "      <th>151787</th>\n",
       "      <td>0</td>\n",
       "      <td>2021-06-01</td>\n",
       "      <td>Край</td>\n",
       "      <td>Хабаровский</td>\n",
       "      <td>Хабаровск</td>\n",
       "      <td>8614d64f7ffffff</td>\n",
       "      <td>48.466982</td>\n",
       "      <td>135.139503</td>\n",
       "      <td>0.00012</td>\n",
       "      <td>0.00013</td>\n",
       "      <td>0.00016</td>\n",
       "      <td>0.02299</td>\n",
       "      <td>0.0</td>\n",
       "      <td>0.02163</td>\n",
       "      <td>NaN</td>\n",
       "      <td>0.00066</td>\n",
       "      <td>0.00066</td>\n",
       "      <td>0.12832</td>\n",
       "      <td>0.31457</td>\n",
       "      <td>0.15062</td>\n",
       "      <td>NaN</td>\n",
       "      <td>0.0</td>\n",
       "      <td>0.00080</td>\n",
       "      <td>NaN</td>\n",
       "      <td>NaN</td>\n",
       "      <td>0.23810</td>\n",
       "      <td>0.85714</td>\n",
       "      <td>0.00000</td>\n",
       "      <td>0.38095</td>\n",
       "      <td>0.19048</td>\n",
       "      <td>0.00000</td>\n",
       "      <td>NaN</td>\n",
       "      <td>NaN</td>\n",
       "      <td>NaN</td>\n",
       "      <td>NaN</td>\n",
       "      <td>NaN</td>\n",
       "      <td>0.00000</td>\n",
       "      <td>0.00000</td>\n",
       "      <td>151788</td>\n",
       "      <td>0.013616</td>\n",
       "    </tr>\n",
       "    <tr>\n",
       "      <th>151788</th>\n",
       "      <td>0</td>\n",
       "      <td>2021-06-01</td>\n",
       "      <td>Край</td>\n",
       "      <td>Хабаровский</td>\n",
       "      <td>Хабаровск</td>\n",
       "      <td>8614d641fffffff</td>\n",
       "      <td>48.506809</td>\n",
       "      <td>135.084491</td>\n",
       "      <td>0.00032</td>\n",
       "      <td>0.00032</td>\n",
       "      <td>0.00042</td>\n",
       "      <td>0.00000</td>\n",
       "      <td>0.0</td>\n",
       "      <td>0.02041</td>\n",
       "      <td>NaN</td>\n",
       "      <td>0.00000</td>\n",
       "      <td>0.00000</td>\n",
       "      <td>0.12615</td>\n",
       "      <td>0.31866</td>\n",
       "      <td>0.14779</td>\n",
       "      <td>0.0</td>\n",
       "      <td>0.0</td>\n",
       "      <td>0.00192</td>\n",
       "      <td>NaN</td>\n",
       "      <td>NaN</td>\n",
       "      <td>0.04688</td>\n",
       "      <td>0.58851</td>\n",
       "      <td>0.03028</td>\n",
       "      <td>0.22360</td>\n",
       "      <td>0.28571</td>\n",
       "      <td>0.00000</td>\n",
       "      <td>0.07370</td>\n",
       "      <td>0.64803</td>\n",
       "      <td>0.00508</td>\n",
       "      <td>0.01271</td>\n",
       "      <td>0.05591</td>\n",
       "      <td>0.03028</td>\n",
       "      <td>0.00000</td>\n",
       "      <td>151789</td>\n",
       "      <td>0.032976</td>\n",
       "    </tr>\n",
       "    <tr>\n",
       "      <th>151789</th>\n",
       "      <td>0</td>\n",
       "      <td>2021-06-01</td>\n",
       "      <td>Область</td>\n",
       "      <td>Амурская</td>\n",
       "      <td>Свободный</td>\n",
       "      <td>8614ac06fffffff</td>\n",
       "      <td>51.369961</td>\n",
       "      <td>128.109785</td>\n",
       "      <td>0.00013</td>\n",
       "      <td>0.00013</td>\n",
       "      <td>0.00016</td>\n",
       "      <td>0.00000</td>\n",
       "      <td>0.0</td>\n",
       "      <td>0.42413</td>\n",
       "      <td>NaN</td>\n",
       "      <td>0.00000</td>\n",
       "      <td>0.00000</td>\n",
       "      <td>0.12783</td>\n",
       "      <td>0.31457</td>\n",
       "      <td>0.14943</td>\n",
       "      <td>NaN</td>\n",
       "      <td>0.0</td>\n",
       "      <td>0.00183</td>\n",
       "      <td>NaN</td>\n",
       "      <td>NaN</td>\n",
       "      <td>0.11045</td>\n",
       "      <td>0.74810</td>\n",
       "      <td>0.04552</td>\n",
       "      <td>0.22003</td>\n",
       "      <td>0.29590</td>\n",
       "      <td>0.00000</td>\n",
       "      <td>NaN</td>\n",
       "      <td>NaN</td>\n",
       "      <td>NaN</td>\n",
       "      <td>NaN</td>\n",
       "      <td>NaN</td>\n",
       "      <td>0.03794</td>\n",
       "      <td>0.00152</td>\n",
       "      <td>151790</td>\n",
       "      <td>0.014774</td>\n",
       "    </tr>\n",
       "    <tr>\n",
       "      <th>151790</th>\n",
       "      <td>0</td>\n",
       "      <td>2021-06-01</td>\n",
       "      <td>Область</td>\n",
       "      <td>Магаданская</td>\n",
       "      <td>Магадан</td>\n",
       "      <td>861710967ffffff</td>\n",
       "      <td>59.544997</td>\n",
       "      <td>150.861279</td>\n",
       "      <td>NaN</td>\n",
       "      <td>NaN</td>\n",
       "      <td>NaN</td>\n",
       "      <td>0.00000</td>\n",
       "      <td>0.0</td>\n",
       "      <td>NaN</td>\n",
       "      <td>0.00000</td>\n",
       "      <td>0.00073</td>\n",
       "      <td>0.00073</td>\n",
       "      <td>0.12478</td>\n",
       "      <td>0.32545</td>\n",
       "      <td>0.14645</td>\n",
       "      <td>0.0</td>\n",
       "      <td>NaN</td>\n",
       "      <td>0.00146</td>\n",
       "      <td>0.0241</td>\n",
       "      <td>0.03764</td>\n",
       "      <td>0.07615</td>\n",
       "      <td>NaN</td>\n",
       "      <td>NaN</td>\n",
       "      <td>NaN</td>\n",
       "      <td>NaN</td>\n",
       "      <td>NaN</td>\n",
       "      <td>0.26923</td>\n",
       "      <td>0.67308</td>\n",
       "      <td>0.00296</td>\n",
       "      <td>0.00296</td>\n",
       "      <td>0.05769</td>\n",
       "      <td>NaN</td>\n",
       "      <td>NaN</td>\n",
       "      <td>151791</td>\n",
       "      <td>0.897441</td>\n",
       "    </tr>\n",
       "  </tbody>\n",
       "</table>\n",
       "<p>151791 rows × 40 columns</p>\n",
       "</div>"
      ],
      "text/plain": [
       "        label      period subject_type subject_name  city_name  \\\n",
       "0           0  2020-11-01        Город       Москва     Москва   \n",
       "1           0  2020-11-01        Город       Москва     Москва   \n",
       "2           0  2020-11-01        Город       Москва     Москва   \n",
       "3           0  2020-11-01        Город       Москва     Москва   \n",
       "4           0  2020-11-01        Город       Москва     Москва   \n",
       "...       ...         ...          ...          ...        ...   \n",
       "151786      0  2021-06-01         Край   Приморский      Артем   \n",
       "151787      0  2021-06-01         Край  Хабаровский  Хабаровск   \n",
       "151788      0  2021-06-01         Край  Хабаровский  Хабаровск   \n",
       "151789      0  2021-06-01      Область     Амурская  Свободный   \n",
       "151790      0  2021-06-01      Область  Магаданская    Магадан   \n",
       "\n",
       "                    hex    hex_lat     hex_lon       f1       f2       f3  \\\n",
       "0       8611aa627ffffff  55.855726   37.669858  0.00115  0.00082  0.00099   \n",
       "1       8611aa797ffffff  55.647024   37.609130  0.00206  0.00242  0.00340   \n",
       "2       8611aa71fffffff  55.821708   37.589846  0.00082  0.00068  0.00082   \n",
       "3       8611aa627ffffff  55.855726   37.669858  0.00118  0.00195  0.00258   \n",
       "4       8611aa4efffffff  55.637199   37.443663  0.00079  0.00092  0.00096   \n",
       "...                 ...        ...         ...      ...      ...      ...   \n",
       "151786  86316c8d7ffffff  43.352653  132.244424  0.00043  0.00051  0.00058   \n",
       "151787  8614d64f7ffffff  48.466982  135.139503  0.00012  0.00013  0.00016   \n",
       "151788  8614d641fffffff  48.506809  135.084491  0.00032  0.00032  0.00042   \n",
       "151789  8614ac06fffffff  51.369961  128.109785  0.00013  0.00013  0.00016   \n",
       "151790  861710967ffffff  59.544997  150.861279      NaN      NaN      NaN   \n",
       "\n",
       "             f4   f5       f6       f7       f8       f9      f10      f11  \\\n",
       "0       0.00000  0.0  0.01028      NaN  0.00000  0.00000  0.12721  0.31457   \n",
       "1       0.00000  0.0  0.02266  0.00025  0.00000  0.00000  0.12628  0.32275   \n",
       "2       0.00000  0.0  0.01098  0.00000  0.00000  0.00000  0.12606  0.31983   \n",
       "3       0.00000  0.0  0.01306      NaN  0.00000  0.00000  0.12664  0.32194   \n",
       "4       0.00000  0.0  0.41867      NaN  0.00000  0.00000  0.12606  0.32012   \n",
       "...         ...  ...      ...      ...      ...      ...      ...      ...   \n",
       "151786  0.00000  0.0  0.25940  0.00000  0.00000  0.00000  0.12708  0.32035   \n",
       "151787  0.02299  0.0  0.02163      NaN  0.00066  0.00066  0.12832  0.31457   \n",
       "151788  0.00000  0.0  0.02041      NaN  0.00000  0.00000  0.12615  0.31866   \n",
       "151789  0.00000  0.0  0.42413      NaN  0.00000  0.00000  0.12783  0.31457   \n",
       "151790  0.00000  0.0      NaN  0.00000  0.00073  0.00073  0.12478  0.32545   \n",
       "\n",
       "            f12  f13  f14      f15     f16      f17      f18      f19  \\\n",
       "0       0.14915  NaN  0.0  0.00503     NaN      NaN  0.00898  0.29623   \n",
       "1       0.14791  0.0  0.0  0.00123  0.0241  0.00936  0.01720  0.23342   \n",
       "2       0.14770  0.0  0.0  0.00048  0.0241  0.00002  0.00559  0.24980   \n",
       "3       0.14826  NaN  0.0  0.00254     NaN      NaN  0.01207  0.22624   \n",
       "4       0.14770  NaN  0.0  0.00244     NaN      NaN  0.01532  0.23398   \n",
       "...         ...  ...  ...      ...     ...      ...      ...      ...   \n",
       "151786  0.14869  0.0  0.0  0.00063  0.0241  0.09569  0.06061  0.69403   \n",
       "151787  0.15062  NaN  0.0  0.00080     NaN      NaN  0.23810  0.85714   \n",
       "151788  0.14779  0.0  0.0  0.00192     NaN      NaN  0.04688  0.58851   \n",
       "151789  0.14943  NaN  0.0  0.00183     NaN      NaN  0.11045  0.74810   \n",
       "151790  0.14645  0.0  NaN  0.00146  0.0241  0.03764  0.07615      NaN   \n",
       "\n",
       "            f20      f21      f22      f23      f24      f25      f26  \\\n",
       "0       0.02424  0.14273  0.00000  0.00000      NaN      NaN      NaN   \n",
       "1       0.02948  0.14251  0.00000  0.00000  0.07368  0.63158  0.01053   \n",
       "2       0.02314  0.15323  0.00000  0.00000  0.14058  0.67093  0.00958   \n",
       "3       0.03017  0.16139  0.00000  0.00151      NaN      NaN      NaN   \n",
       "4       0.02925  0.12674  0.00000  0.00000      NaN      NaN      NaN   \n",
       "...         ...      ...      ...      ...      ...      ...      ...   \n",
       "151786  0.02985  0.26119  0.04478  0.00000  0.30208  0.54167  0.00000   \n",
       "151787  0.00000  0.38095  0.19048  0.00000      NaN      NaN      NaN   \n",
       "151788  0.03028  0.22360  0.28571  0.00000  0.07370  0.64803  0.00508   \n",
       "151789  0.04552  0.22003  0.29590  0.00000      NaN      NaN      NaN   \n",
       "151790      NaN      NaN      NaN      NaN  0.26923  0.67308  0.00296   \n",
       "\n",
       "            f27      f28      f29      f30      id     probs  \n",
       "0           NaN      NaN  0.00449  0.00000       1  0.004242  \n",
       "1       0.04210  0.02105  0.00491  0.00000       2  0.792934  \n",
       "2       0.03195  0.00320  0.00798  0.00000       3  0.596743  \n",
       "3           NaN      NaN  0.00905  0.00000       4  0.042549  \n",
       "4           NaN      NaN  0.01254  0.00000       5  0.026755  \n",
       "...         ...      ...      ...      ...     ...       ...  \n",
       "151786  0.00000  0.09375  0.05224  0.00000  151787  0.622479  \n",
       "151787      NaN      NaN  0.00000  0.00000  151788  0.013616  \n",
       "151788  0.01271  0.05591  0.03028  0.00000  151789  0.032976  \n",
       "151789      NaN      NaN  0.03794  0.00152  151790  0.014774  \n",
       "151790  0.00296  0.05769      NaN      NaN  151791  0.897441  \n",
       "\n",
       "[151791 rows x 40 columns]"
      ]
     },
     "execution_count": 391,
     "metadata": {},
     "output_type": "execute_result"
    }
   ],
   "source": [
    "test_test"
   ]
  },
  {
   "cell_type": "code",
   "execution_count": 398,
   "metadata": {},
   "outputs": [
    {
     "data": {
      "text/plain": [
       "86948     0.0\n",
       "49308     0.0\n",
       "22026     0.0\n",
       "73762     0.0\n",
       "96464     0.0\n",
       "         ... \n",
       "14838     1.0\n",
       "136377    1.0\n",
       "136422    1.0\n",
       "136147    1.0\n",
       "26165     1.0\n",
       "Name: probs, Length: 151775, dtype: float64"
      ]
     },
     "execution_count": 398,
     "metadata": {},
     "output_type": "execute_result"
    }
   ],
   "source": [
    "test_test.loc[:, 'probs'].dropna().sort_values()"
   ]
  },
  {
   "cell_type": "code",
   "execution_count": 393,
   "metadata": {},
   "outputs": [],
   "source": [
    "cum = pd.DataFrame(probs).dropna()\n",
    "ind = cum.sort_values(by=0)[-int(len(c)*0.05):].index"
   ]
  },
  {
   "cell_type": "code",
   "execution_count": 394,
   "metadata": {},
   "outputs": [
    {
     "data": {
      "text/plain": [
       "Int64Index([132464, 148972, 134434,  61463, 146421, 136445, 114212, 105311,\n",
       "            137261, 139034,\n",
       "            ...\n",
       "             91265, 148012,  10838, 148290, 146240,  14838, 136377, 136422,\n",
       "            136147,  26165],\n",
       "           dtype='int64', length=14709)"
      ]
     },
     "execution_count": 394,
     "metadata": {},
     "output_type": "execute_result"
    }
   ],
   "source": [
    "ind"
   ]
  },
  {
   "cell_type": "code",
   "execution_count": 402,
   "metadata": {},
   "outputs": [],
   "source": [
    "test_test['probs'].iloc[ind].to_csv('answers.csv')"
   ]
  }
 ],
 "metadata": {
  "kernelspec": {
   "display_name": "Python 3",
   "language": "python",
   "name": "python3"
  },
  "language_info": {
   "codemirror_mode": {
    "name": "ipython",
    "version": 3
   },
   "file_extension": ".py",
   "mimetype": "text/x-python",
   "name": "python",
   "nbconvert_exporter": "python",
   "pygments_lexer": "ipython3",
   "version": "3.7.4"
  }
 },
 "nbformat": 4,
 "nbformat_minor": 5
}
